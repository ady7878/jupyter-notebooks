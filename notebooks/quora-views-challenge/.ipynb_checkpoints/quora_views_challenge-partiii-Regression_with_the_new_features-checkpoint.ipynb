{
 "cells": [
  {
   "cell_type": "markdown",
   "metadata": {},
   "source": [
    "# 1. Linear Regression"
   ]
  },
  {
   "cell_type": "code",
   "execution_count": 1,
   "metadata": {
    "collapsed": true
   },
   "outputs": [],
   "source": [
    "import pandas as pd\n",
    "import json\n",
    "json_data = open('/home/yohna/Documents/quora_challenges/views/sample/input00.in') # Edit this to where you have put the input00.in file\n",
    "\n",
    "data = []\n",
    "for line in json_data:\n",
    "    data.append(json.loads(line))\n",
    "\n",
    "data.remove(9000)\n",
    "data.remove(1000)\n",
    "\n",
    "df = pd.DataFrame(data)\n",
    "\n",
    "df['anonymous'] = df['anonymous'].map({False: 0, True:1}).astype(int)\n",
    "cleaned_df=df[:9000]\n",
    "\n",
    "# to make reading the question_text cells easier, remove the maximum column width \n",
    "pd.set_option('display.max_colwidth', -1) \n",
    "\n",
    "# Don't care about warnings in this notebook\n",
    "import warnings\n",
    "warnings.filterwarnings(\"ignore\")"
   ]
  },
  {
   "cell_type": "markdown",
   "metadata": {},
   "source": [
    "First let's add the new features."
   ]
  },
  {
   "cell_type": "code",
   "execution_count": 2,
   "metadata": {
    "collapsed": true
   },
   "outputs": [],
   "source": [
    "data_df = cleaned_df[:9000]\n",
    "#---------------------------------------------------------------\n",
    "# The product of num_answers and context_present\n",
    "\n",
    "# first define context_present\n",
    "data_df['context_present'] = data_df['context_topic'].apply(lambda x: 0 if x==None else 1)\n",
    "# then multiply and make it into a column\n",
    "data_df['context_xnum_ans'] = data_df['context_present'] * data_df['num_answers']\n",
    "#---------------------------------------------------------------\n",
    "\n",
    "#---------------------------------------------------------------\n",
    "# Questions with at least 29 Answers\n",
    "\n",
    "data_df['num_ans>= 29'] = data_df['num_answers'].apply(lambda x: 1 if x>=29 else 0)\n",
    "#---------------------------------------------------------------\n",
    "\n",
    "#---------------------------------------------------------------\n",
    "# The product of a boolean column of questions ...\n",
    "# ... containing \"top3\" (see the preceeding notebook) words | corr_coef = 0.348\n",
    "\n",
    "data_df['qcontains_comb_1'] = data_df['question_text'].apply(lambda x: 1 if any(pd.Series(x).str.contains('university|list|With|physics?|shown|have|single|finding|around|mind|Indian|come|interesting|most|inspired|guy|movies|value|instead|most?|movies?|indian|girlfriend?|advice|across?|physical|cross|not|hate|Apple|actually|found|modern|technology|there|biggest|India?|each|but|within|physics|tell|intelligence|girlfriend|changes|sound|Glass?|iOS|mind-blowing|universe?|India|cases|right|Why|boyfriend|true|efforts|facts|girl|some')) else 0)\n",
    "\n",
    "data_df['qcontains_comb_1_xnum_ans'] = data_df['qcontains_comb_1'] * data_df['num_answers']\n",
    "#---------------------------------------------------------------\n",
    "\n",
    "#---------------------------------------------------------------\n",
    "# The product of a boolean column of the number of characters of questions ...\n",
    "# ... and the number of answers.  | corr_coef = 0.392\n",
    "\n",
    "data_df['len_chars'] = data_df.question_text.apply(lambda x: len(x))\n",
    "\n",
    "data_df['qnumchars_lessThan_182_xnum_ans'] = data_df['num_answers'] * data_df['len_chars'].apply(lambda x: 1 if x <= 182 else 0)\n",
    "#---------------------------------------------------------------\n",
    "\n",
    "#---------------------------------------------------------------\n",
    "# The sum of number of followers of the topics the question is tagged for  | corr_coef = 0.121\n",
    "\n",
    "def funn(x): #where x will be a row when running `apply`\n",
    "    return sum(x[i]['followers'] for i in range(len(x)))\n",
    "data_df['topics_followers'] = data_df['topics'].apply(funn)\n",
    "data_df.drop(['topics'], axis =1, inplace=True)\n",
    "#---------------------------------------------------------------"
   ]
  },
  {
   "cell_type": "code",
   "execution_count": 3,
   "metadata": {
    "collapsed": true
   },
   "outputs": [],
   "source": [
    "data_df.drop(['context_present', 'qcontains_comb_1'], axis=1, inplace=True) #To avoid multilinearity"
   ]
  },
  {
   "cell_type": "markdown",
   "metadata": {},
   "source": [
    "---"
   ]
  },
  {
   "cell_type": "code",
   "execution_count": 4,
   "metadata": {
    "scrolled": true
   },
   "outputs": [
    {
     "data": {
      "text/html": [
       "<div>\n",
       "<style>\n",
       "    .dataframe thead tr:only-child th {\n",
       "        text-align: right;\n",
       "    }\n",
       "\n",
       "    .dataframe thead th {\n",
       "        text-align: left;\n",
       "    }\n",
       "\n",
       "    .dataframe tbody tr th {\n",
       "        vertical-align: top;\n",
       "    }\n",
       "</style>\n",
       "<table border=\"1\" class=\"dataframe\">\n",
       "  <thead>\n",
       "    <tr style=\"text-align: right;\">\n",
       "      <th></th>\n",
       "      <th>__ans__</th>\n",
       "      <th>anonymous</th>\n",
       "      <th>context_topic</th>\n",
       "      <th>num_answers</th>\n",
       "      <th>promoted_to</th>\n",
       "      <th>question_key</th>\n",
       "      <th>question_text</th>\n",
       "      <th>context_xnum_ans</th>\n",
       "      <th>num_ans&gt;= 29</th>\n",
       "      <th>qcontains_comb_1_xnum_ans</th>\n",
       "      <th>len_chars</th>\n",
       "      <th>qnumchars_lessThan_182_xnum_ans</th>\n",
       "      <th>topics_followers</th>\n",
       "    </tr>\n",
       "  </thead>\n",
       "  <tbody>\n",
       "    <tr>\n",
       "      <th>0</th>\n",
       "      <td>2.089474</td>\n",
       "      <td>0</td>\n",
       "      <td>{'followers': 500022, 'name': 'Movies'}</td>\n",
       "      <td>4</td>\n",
       "      <td>0</td>\n",
       "      <td>AAEAAM9EY6LIJsEFvYiwKLfCe7d+hkbsXJ5qM7aSwTqemERp</td>\n",
       "      <td>What are some movies with mind boggling twists in it?</td>\n",
       "      <td>4</td>\n",
       "      <td>0</td>\n",
       "      <td>4</td>\n",
       "      <td>53</td>\n",
       "      <td>4</td>\n",
       "      <td>500022</td>\n",
       "    </tr>\n",
       "    <tr>\n",
       "      <th>1</th>\n",
       "      <td>2.692308</td>\n",
       "      <td>0</td>\n",
       "      <td>{'followers': 179, 'name': 'International Mathematical Olympiad (IMO)'}</td>\n",
       "      <td>1</td>\n",
       "      <td>0</td>\n",
       "      <td>AAEAAHM6f92B9jt43/y913/J7ce8vtE6Jn9LLcy3yK2RHFGD</td>\n",
       "      <td>How do you prepare a 10 year old for International Mathematical Olympiad?</td>\n",
       "      <td>1</td>\n",
       "      <td>0</td>\n",
       "      <td>0</td>\n",
       "      <td>73</td>\n",
       "      <td>1</td>\n",
       "      <td>179</td>\n",
       "    </tr>\n",
       "    <tr>\n",
       "      <th>2</th>\n",
       "      <td>4.612903</td>\n",
       "      <td>0</td>\n",
       "      <td>{'followers': 614223, 'name': 'Science'}</td>\n",
       "      <td>1</td>\n",
       "      <td>0</td>\n",
       "      <td>AAEAAGzietPvCHLFvaKCjng43iiIeo9gAWnJlSrs+12uYtZ0</td>\n",
       "      <td>Why do bats sleep upside down?</td>\n",
       "      <td>1</td>\n",
       "      <td>0</td>\n",
       "      <td>1</td>\n",
       "      <td>30</td>\n",
       "      <td>1</td>\n",
       "      <td>614223</td>\n",
       "    </tr>\n",
       "    <tr>\n",
       "      <th>3</th>\n",
       "      <td>8.051948</td>\n",
       "      <td>0</td>\n",
       "      <td>{'followers': 614223, 'name': 'Science'}</td>\n",
       "      <td>1</td>\n",
       "      <td>0</td>\n",
       "      <td>AAEAAM2Sk4U3y4We5TELJXRQgIf6yit5DbbdBw6BCRvuFrcY</td>\n",
       "      <td>Tell me everything about the Leidenfrost effect poetically?</td>\n",
       "      <td>1</td>\n",
       "      <td>0</td>\n",
       "      <td>0</td>\n",
       "      <td>59</td>\n",
       "      <td>1</td>\n",
       "      <td>1029363</td>\n",
       "    </tr>\n",
       "    <tr>\n",
       "      <th>4</th>\n",
       "      <td>0.150943</td>\n",
       "      <td>0</td>\n",
       "      <td>{'followers': 1536, 'name': 'Android Tablets'}</td>\n",
       "      <td>0</td>\n",
       "      <td>0</td>\n",
       "      <td>AAEAALb43r/fn9KRKqJ0itd3NGbqZZSZalzi7vaulLxNGzeL</td>\n",
       "      <td>Is the Nexus 10 any good despite the dual core processor?</td>\n",
       "      <td>0</td>\n",
       "      <td>0</td>\n",
       "      <td>0</td>\n",
       "      <td>57</td>\n",
       "      <td>0</td>\n",
       "      <td>1536</td>\n",
       "    </tr>\n",
       "  </tbody>\n",
       "</table>\n",
       "</div>"
      ],
      "text/plain": [
       "    __ans__  anonymous  \\\n",
       "0  2.089474  0           \n",
       "1  2.692308  0           \n",
       "2  4.612903  0           \n",
       "3  8.051948  0           \n",
       "4  0.150943  0           \n",
       "\n",
       "                                                             context_topic  \\\n",
       "0  {'followers': 500022, 'name': 'Movies'}                                   \n",
       "1  {'followers': 179, 'name': 'International Mathematical Olympiad (IMO)'}   \n",
       "2  {'followers': 614223, 'name': 'Science'}                                  \n",
       "3  {'followers': 614223, 'name': 'Science'}                                  \n",
       "4  {'followers': 1536, 'name': 'Android Tablets'}                            \n",
       "\n",
       "   num_answers  promoted_to                                      question_key  \\\n",
       "0  4            0            AAEAAM9EY6LIJsEFvYiwKLfCe7d+hkbsXJ5qM7aSwTqemERp   \n",
       "1  1            0            AAEAAHM6f92B9jt43/y913/J7ce8vtE6Jn9LLcy3yK2RHFGD   \n",
       "2  1            0            AAEAAGzietPvCHLFvaKCjng43iiIeo9gAWnJlSrs+12uYtZ0   \n",
       "3  1            0            AAEAAM2Sk4U3y4We5TELJXRQgIf6yit5DbbdBw6BCRvuFrcY   \n",
       "4  0            0            AAEAALb43r/fn9KRKqJ0itd3NGbqZZSZalzi7vaulLxNGzeL   \n",
       "\n",
       "                                                               question_text  \\\n",
       "0  What are some movies with mind boggling twists in it?                       \n",
       "1  How do you prepare a 10 year old for International Mathematical Olympiad?   \n",
       "2  Why do bats sleep upside down?                                              \n",
       "3  Tell me everything about the Leidenfrost effect poetically?                 \n",
       "4  Is the Nexus 10 any good despite the dual core processor?                   \n",
       "\n",
       "   context_xnum_ans  num_ans>= 29  qcontains_comb_1_xnum_ans  len_chars  \\\n",
       "0  4                 0             4                          53          \n",
       "1  1                 0             0                          73          \n",
       "2  1                 0             1                          30          \n",
       "3  1                 0             0                          59          \n",
       "4  0                 0             0                          57          \n",
       "\n",
       "   qnumchars_lessThan_182_xnum_ans  topics_followers  \n",
       "0  4                                500022            \n",
       "1  1                                179               \n",
       "2  1                                614223            \n",
       "3  1                                1029363           \n",
       "4  0                                1536              "
      ]
     },
     "execution_count": 4,
     "metadata": {},
     "output_type": "execute_result"
    }
   ],
   "source": [
    "data_df.head()"
   ]
  },
  {
   "cell_type": "code",
   "execution_count": 5,
   "metadata": {
    "collapsed": true
   },
   "outputs": [],
   "source": [
    "# numerical values only and 'question_key'\n",
    "df_n = data_df[['__ans__', 'question_key', 'anonymous', 'num_answers', 'context_xnum_ans', 'num_ans>= 29', 'qcontains_comb_1_xnum_ans', 'len_chars', 'qnumchars_lessThan_182_xnum_ans', 'topics_followers']]"
   ]
  },
  {
   "cell_type": "code",
   "execution_count": 6,
   "metadata": {
    "collapsed": true
   },
   "outputs": [],
   "source": [
    "#set the index to question_key\n",
    "df_n.set_index(df_n['question_key'], \n",
    "                  inplace=True\n",
    "                 )\n",
    "df_n.drop(['question_key'], axis=1, inplace=True)\n",
    "# Since the new index has a name (\"question_key\"), pandas will add an extra row with\n",
    "# the index name in the first entry with 0 in the rest. Fix this by setting the index\n",
    "# name to None\n",
    "df_n.index.name = None "
   ]
  },
  {
   "cell_type": "code",
   "execution_count": 7,
   "metadata": {},
   "outputs": [
    {
     "data": {
      "text/html": [
       "<div>\n",
       "<style>\n",
       "    .dataframe thead tr:only-child th {\n",
       "        text-align: right;\n",
       "    }\n",
       "\n",
       "    .dataframe thead th {\n",
       "        text-align: left;\n",
       "    }\n",
       "\n",
       "    .dataframe tbody tr th {\n",
       "        vertical-align: top;\n",
       "    }\n",
       "</style>\n",
       "<table border=\"1\" class=\"dataframe\">\n",
       "  <thead>\n",
       "    <tr style=\"text-align: right;\">\n",
       "      <th></th>\n",
       "      <th>__ans__</th>\n",
       "      <th>anonymous</th>\n",
       "      <th>num_answers</th>\n",
       "      <th>context_xnum_ans</th>\n",
       "      <th>num_ans&gt;= 29</th>\n",
       "      <th>qcontains_comb_1_xnum_ans</th>\n",
       "      <th>len_chars</th>\n",
       "      <th>qnumchars_lessThan_182_xnum_ans</th>\n",
       "      <th>topics_followers</th>\n",
       "    </tr>\n",
       "  </thead>\n",
       "  <tbody>\n",
       "    <tr>\n",
       "      <th>AAEAAM9EY6LIJsEFvYiwKLfCe7d+hkbsXJ5qM7aSwTqemERp</th>\n",
       "      <td>2.089474</td>\n",
       "      <td>0</td>\n",
       "      <td>4</td>\n",
       "      <td>4</td>\n",
       "      <td>0</td>\n",
       "      <td>4</td>\n",
       "      <td>53</td>\n",
       "      <td>4</td>\n",
       "      <td>500022</td>\n",
       "    </tr>\n",
       "    <tr>\n",
       "      <th>AAEAAHM6f92B9jt43/y913/J7ce8vtE6Jn9LLcy3yK2RHFGD</th>\n",
       "      <td>2.692308</td>\n",
       "      <td>0</td>\n",
       "      <td>1</td>\n",
       "      <td>1</td>\n",
       "      <td>0</td>\n",
       "      <td>0</td>\n",
       "      <td>73</td>\n",
       "      <td>1</td>\n",
       "      <td>179</td>\n",
       "    </tr>\n",
       "    <tr>\n",
       "      <th>AAEAAGzietPvCHLFvaKCjng43iiIeo9gAWnJlSrs+12uYtZ0</th>\n",
       "      <td>4.612903</td>\n",
       "      <td>0</td>\n",
       "      <td>1</td>\n",
       "      <td>1</td>\n",
       "      <td>0</td>\n",
       "      <td>1</td>\n",
       "      <td>30</td>\n",
       "      <td>1</td>\n",
       "      <td>614223</td>\n",
       "    </tr>\n",
       "    <tr>\n",
       "      <th>AAEAAM2Sk4U3y4We5TELJXRQgIf6yit5DbbdBw6BCRvuFrcY</th>\n",
       "      <td>8.051948</td>\n",
       "      <td>0</td>\n",
       "      <td>1</td>\n",
       "      <td>1</td>\n",
       "      <td>0</td>\n",
       "      <td>0</td>\n",
       "      <td>59</td>\n",
       "      <td>1</td>\n",
       "      <td>1029363</td>\n",
       "    </tr>\n",
       "    <tr>\n",
       "      <th>AAEAALb43r/fn9KRKqJ0itd3NGbqZZSZalzi7vaulLxNGzeL</th>\n",
       "      <td>0.150943</td>\n",
       "      <td>0</td>\n",
       "      <td>0</td>\n",
       "      <td>0</td>\n",
       "      <td>0</td>\n",
       "      <td>0</td>\n",
       "      <td>57</td>\n",
       "      <td>0</td>\n",
       "      <td>1536</td>\n",
       "    </tr>\n",
       "  </tbody>\n",
       "</table>\n",
       "</div>"
      ],
      "text/plain": [
       "                                                   __ans__  anonymous  \\\n",
       "AAEAAM9EY6LIJsEFvYiwKLfCe7d+hkbsXJ5qM7aSwTqemERp  2.089474  0           \n",
       "AAEAAHM6f92B9jt43/y913/J7ce8vtE6Jn9LLcy3yK2RHFGD  2.692308  0           \n",
       "AAEAAGzietPvCHLFvaKCjng43iiIeo9gAWnJlSrs+12uYtZ0  4.612903  0           \n",
       "AAEAAM2Sk4U3y4We5TELJXRQgIf6yit5DbbdBw6BCRvuFrcY  8.051948  0           \n",
       "AAEAALb43r/fn9KRKqJ0itd3NGbqZZSZalzi7vaulLxNGzeL  0.150943  0           \n",
       "\n",
       "                                                  num_answers  \\\n",
       "AAEAAM9EY6LIJsEFvYiwKLfCe7d+hkbsXJ5qM7aSwTqemERp  4             \n",
       "AAEAAHM6f92B9jt43/y913/J7ce8vtE6Jn9LLcy3yK2RHFGD  1             \n",
       "AAEAAGzietPvCHLFvaKCjng43iiIeo9gAWnJlSrs+12uYtZ0  1             \n",
       "AAEAAM2Sk4U3y4We5TELJXRQgIf6yit5DbbdBw6BCRvuFrcY  1             \n",
       "AAEAALb43r/fn9KRKqJ0itd3NGbqZZSZalzi7vaulLxNGzeL  0             \n",
       "\n",
       "                                                  context_xnum_ans  \\\n",
       "AAEAAM9EY6LIJsEFvYiwKLfCe7d+hkbsXJ5qM7aSwTqemERp  4                  \n",
       "AAEAAHM6f92B9jt43/y913/J7ce8vtE6Jn9LLcy3yK2RHFGD  1                  \n",
       "AAEAAGzietPvCHLFvaKCjng43iiIeo9gAWnJlSrs+12uYtZ0  1                  \n",
       "AAEAAM2Sk4U3y4We5TELJXRQgIf6yit5DbbdBw6BCRvuFrcY  1                  \n",
       "AAEAALb43r/fn9KRKqJ0itd3NGbqZZSZalzi7vaulLxNGzeL  0                  \n",
       "\n",
       "                                                  num_ans>= 29  \\\n",
       "AAEAAM9EY6LIJsEFvYiwKLfCe7d+hkbsXJ5qM7aSwTqemERp  0              \n",
       "AAEAAHM6f92B9jt43/y913/J7ce8vtE6Jn9LLcy3yK2RHFGD  0              \n",
       "AAEAAGzietPvCHLFvaKCjng43iiIeo9gAWnJlSrs+12uYtZ0  0              \n",
       "AAEAAM2Sk4U3y4We5TELJXRQgIf6yit5DbbdBw6BCRvuFrcY  0              \n",
       "AAEAALb43r/fn9KRKqJ0itd3NGbqZZSZalzi7vaulLxNGzeL  0              \n",
       "\n",
       "                                                  qcontains_comb_1_xnum_ans  \\\n",
       "AAEAAM9EY6LIJsEFvYiwKLfCe7d+hkbsXJ5qM7aSwTqemERp  4                           \n",
       "AAEAAHM6f92B9jt43/y913/J7ce8vtE6Jn9LLcy3yK2RHFGD  0                           \n",
       "AAEAAGzietPvCHLFvaKCjng43iiIeo9gAWnJlSrs+12uYtZ0  1                           \n",
       "AAEAAM2Sk4U3y4We5TELJXRQgIf6yit5DbbdBw6BCRvuFrcY  0                           \n",
       "AAEAALb43r/fn9KRKqJ0itd3NGbqZZSZalzi7vaulLxNGzeL  0                           \n",
       "\n",
       "                                                  len_chars  \\\n",
       "AAEAAM9EY6LIJsEFvYiwKLfCe7d+hkbsXJ5qM7aSwTqemERp  53          \n",
       "AAEAAHM6f92B9jt43/y913/J7ce8vtE6Jn9LLcy3yK2RHFGD  73          \n",
       "AAEAAGzietPvCHLFvaKCjng43iiIeo9gAWnJlSrs+12uYtZ0  30          \n",
       "AAEAAM2Sk4U3y4We5TELJXRQgIf6yit5DbbdBw6BCRvuFrcY  59          \n",
       "AAEAALb43r/fn9KRKqJ0itd3NGbqZZSZalzi7vaulLxNGzeL  57          \n",
       "\n",
       "                                                  qnumchars_lessThan_182_xnum_ans  \\\n",
       "AAEAAM9EY6LIJsEFvYiwKLfCe7d+hkbsXJ5qM7aSwTqemERp  4                                 \n",
       "AAEAAHM6f92B9jt43/y913/J7ce8vtE6Jn9LLcy3yK2RHFGD  1                                 \n",
       "AAEAAGzietPvCHLFvaKCjng43iiIeo9gAWnJlSrs+12uYtZ0  1                                 \n",
       "AAEAAM2Sk4U3y4We5TELJXRQgIf6yit5DbbdBw6BCRvuFrcY  1                                 \n",
       "AAEAALb43r/fn9KRKqJ0itd3NGbqZZSZalzi7vaulLxNGzeL  0                                 \n",
       "\n",
       "                                                  topics_followers  \n",
       "AAEAAM9EY6LIJsEFvYiwKLfCe7d+hkbsXJ5qM7aSwTqemERp  500022            \n",
       "AAEAAHM6f92B9jt43/y913/J7ce8vtE6Jn9LLcy3yK2RHFGD  179               \n",
       "AAEAAGzietPvCHLFvaKCjng43iiIeo9gAWnJlSrs+12uYtZ0  614223            \n",
       "AAEAAM2Sk4U3y4We5TELJXRQgIf6yit5DbbdBw6BCRvuFrcY  1029363           \n",
       "AAEAALb43r/fn9KRKqJ0itd3NGbqZZSZalzi7vaulLxNGzeL  1536              "
      ]
     },
     "execution_count": 7,
     "metadata": {},
     "output_type": "execute_result"
    }
   ],
   "source": [
    "df_n.head()"
   ]
  },
  {
   "cell_type": "markdown",
   "metadata": {},
   "source": [
    "---"
   ]
  },
  {
   "cell_type": "markdown",
   "metadata": {},
   "source": [
    "## 1.1 Training the Model"
   ]
  },
  {
   "cell_type": "markdown",
   "metadata": {},
   "source": [
    "### 1.1.1 Correlation Matrix"
   ]
  },
  {
   "cell_type": "code",
   "execution_count": 8,
   "metadata": {},
   "outputs": [
    {
     "data": {
      "text/plain": [
       "<matplotlib.axes._subplots.AxesSubplot at 0x7f077494e2b0>"
      ]
     },
     "execution_count": 8,
     "metadata": {},
     "output_type": "execute_result"
    },
    {
     "data": {
      "image/png": "[encoded data removed]",
      "text/plain": [
       "<matplotlib.figure.Figure at 0x7f07ac512c18>"
      ]
     },
     "metadata": {},
     "output_type": "display_data"
    }
   ],
   "source": [
    "import matplotlib.pyplot as plt\n",
    "import seaborn as sns\n",
    "%matplotlib inline\n",
    "sns.set(context=\"paper\")\n",
    "corrmat = df_n.corr()\n",
    "f, ax = plt.subplots(figsize=(14, 10))\n",
    "f.text(0.45, 0.93, \"Correlation coefficients\", ha='center')\n",
    "sns.heatmap(corrmat, square=True, linewidths=0.01, cmap='coolwarm', annot=True)"
   ]
  },
  {
   "cell_type": "markdown",
   "metadata": {},
   "source": [
    "**Should I have multiplied those features by num_answers?? I fear I might have induced multicollinearity.**"
   ]
  },
  {
   "cell_type": "markdown",
   "metadata": {},
   "source": [
    "---"
   ]
  },
  {
   "cell_type": "markdown",
   "metadata": {
    "collapsed": true
   },
   "source": [
    "### 1.1.2 Split to train and test sets"
   ]
  },
  {
   "cell_type": "code",
   "execution_count": 9,
   "metadata": {
    "collapsed": true
   },
   "outputs": [],
   "source": [
    "from sklearn.model_selection import train_test_split\n",
    "y = df_n.__ans__ # the target column\n",
    "x = df_n.drop('__ans__', axis=1)\n",
    "x_train, x_test, y_train, y_test = train_test_split(x, y, \n",
    "                                                   test_size = 0.2,\n",
    "                                                   random_state = 123)"
   ]
  },
  {
   "cell_type": "code",
   "execution_count": 10,
   "metadata": {},
   "outputs": [
    {
     "data": {
      "text/html": [
       "<div>\n",
       "<style>\n",
       "    .dataframe thead tr:only-child th {\n",
       "        text-align: right;\n",
       "    }\n",
       "\n",
       "    .dataframe thead th {\n",
       "        text-align: left;\n",
       "    }\n",
       "\n",
       "    .dataframe tbody tr th {\n",
       "        vertical-align: top;\n",
       "    }\n",
       "</style>\n",
       "<table border=\"1\" class=\"dataframe\">\n",
       "  <thead>\n",
       "    <tr style=\"text-align: right;\">\n",
       "      <th></th>\n",
       "      <th>anonymous</th>\n",
       "      <th>num_answers</th>\n",
       "      <th>context_xnum_ans</th>\n",
       "      <th>num_ans&gt;= 29</th>\n",
       "      <th>qcontains_comb_1_xnum_ans</th>\n",
       "      <th>len_chars</th>\n",
       "      <th>qnumchars_lessThan_182_xnum_ans</th>\n",
       "      <th>topics_followers</th>\n",
       "    </tr>\n",
       "  </thead>\n",
       "  <tbody>\n",
       "    <tr>\n",
       "      <th>AAEAALxMqeRHdD7LRQLR7RZfcSXRNvMoqdZQ1GAKFrFutwlU</th>\n",
       "      <td>1</td>\n",
       "      <td>6</td>\n",
       "      <td>6</td>\n",
       "      <td>0</td>\n",
       "      <td>6</td>\n",
       "      <td>58</td>\n",
       "      <td>6</td>\n",
       "      <td>65367</td>\n",
       "    </tr>\n",
       "    <tr>\n",
       "      <th>AAEAAAM93+e/vn8MQXZUdE4ECSfPVr/TY1wGwYU33sRFZOLU</th>\n",
       "      <td>0</td>\n",
       "      <td>0</td>\n",
       "      <td>0</td>\n",
       "      <td>0</td>\n",
       "      <td>0</td>\n",
       "      <td>56</td>\n",
       "      <td>0</td>\n",
       "      <td>3210</td>\n",
       "    </tr>\n",
       "    <tr>\n",
       "      <th>AAEAAHioJGo60T+xv1nrk+HnPJ68sHjUVAktaItioPwvRV1w</th>\n",
       "      <td>1</td>\n",
       "      <td>0</td>\n",
       "      <td>0</td>\n",
       "      <td>0</td>\n",
       "      <td>0</td>\n",
       "      <td>59</td>\n",
       "      <td>0</td>\n",
       "      <td>24161</td>\n",
       "    </tr>\n",
       "    <tr>\n",
       "      <th>AAEAAM9qePqcSQmZK+lRCFDMJ5Zx7l/MkW4smb8WROdeqZmK</th>\n",
       "      <td>0</td>\n",
       "      <td>1</td>\n",
       "      <td>1</td>\n",
       "      <td>0</td>\n",
       "      <td>1</td>\n",
       "      <td>117</td>\n",
       "      <td>1</td>\n",
       "      <td>15157</td>\n",
       "    </tr>\n",
       "    <tr>\n",
       "      <th>AAEAAI2b9z3fIB+4uTzBGGWEw3eDYIiH0ettb3kViJsI7RoA</th>\n",
       "      <td>1</td>\n",
       "      <td>3</td>\n",
       "      <td>3</td>\n",
       "      <td>0</td>\n",
       "      <td>3</td>\n",
       "      <td>114</td>\n",
       "      <td>3</td>\n",
       "      <td>19195</td>\n",
       "    </tr>\n",
       "  </tbody>\n",
       "</table>\n",
       "</div>"
      ],
      "text/plain": [
       "                                                  anonymous  num_answers  \\\n",
       "AAEAALxMqeRHdD7LRQLR7RZfcSXRNvMoqdZQ1GAKFrFutwlU  1          6             \n",
       "AAEAAAM93+e/vn8MQXZUdE4ECSfPVr/TY1wGwYU33sRFZOLU  0          0             \n",
       "AAEAAHioJGo60T+xv1nrk+HnPJ68sHjUVAktaItioPwvRV1w  1          0             \n",
       "AAEAAM9qePqcSQmZK+lRCFDMJ5Zx7l/MkW4smb8WROdeqZmK  0          1             \n",
       "AAEAAI2b9z3fIB+4uTzBGGWEw3eDYIiH0ettb3kViJsI7RoA  1          3             \n",
       "\n",
       "                                                  context_xnum_ans  \\\n",
       "AAEAALxMqeRHdD7LRQLR7RZfcSXRNvMoqdZQ1GAKFrFutwlU  6                  \n",
       "AAEAAAM93+e/vn8MQXZUdE4ECSfPVr/TY1wGwYU33sRFZOLU  0                  \n",
       "AAEAAHioJGo60T+xv1nrk+HnPJ68sHjUVAktaItioPwvRV1w  0                  \n",
       "AAEAAM9qePqcSQmZK+lRCFDMJ5Zx7l/MkW4smb8WROdeqZmK  1                  \n",
       "AAEAAI2b9z3fIB+4uTzBGGWEw3eDYIiH0ettb3kViJsI7RoA  3                  \n",
       "\n",
       "                                                  num_ans>= 29  \\\n",
       "AAEAALxMqeRHdD7LRQLR7RZfcSXRNvMoqdZQ1GAKFrFutwlU  0              \n",
       "AAEAAAM93+e/vn8MQXZUdE4ECSfPVr/TY1wGwYU33sRFZOLU  0              \n",
       "AAEAAHioJGo60T+xv1nrk+HnPJ68sHjUVAktaItioPwvRV1w  0              \n",
       "AAEAAM9qePqcSQmZK+lRCFDMJ5Zx7l/MkW4smb8WROdeqZmK  0              \n",
       "AAEAAI2b9z3fIB+4uTzBGGWEw3eDYIiH0ettb3kViJsI7RoA  0              \n",
       "\n",
       "                                                  qcontains_comb_1_xnum_ans  \\\n",
       "AAEAALxMqeRHdD7LRQLR7RZfcSXRNvMoqdZQ1GAKFrFutwlU  6                           \n",
       "AAEAAAM93+e/vn8MQXZUdE4ECSfPVr/TY1wGwYU33sRFZOLU  0                           \n",
       "AAEAAHioJGo60T+xv1nrk+HnPJ68sHjUVAktaItioPwvRV1w  0                           \n",
       "AAEAAM9qePqcSQmZK+lRCFDMJ5Zx7l/MkW4smb8WROdeqZmK  1                           \n",
       "AAEAAI2b9z3fIB+4uTzBGGWEw3eDYIiH0ettb3kViJsI7RoA  3                           \n",
       "\n",
       "                                                  len_chars  \\\n",
       "AAEAALxMqeRHdD7LRQLR7RZfcSXRNvMoqdZQ1GAKFrFutwlU  58          \n",
       "AAEAAAM93+e/vn8MQXZUdE4ECSfPVr/TY1wGwYU33sRFZOLU  56          \n",
       "AAEAAHioJGo60T+xv1nrk+HnPJ68sHjUVAktaItioPwvRV1w  59          \n",
       "AAEAAM9qePqcSQmZK+lRCFDMJ5Zx7l/MkW4smb8WROdeqZmK  117         \n",
       "AAEAAI2b9z3fIB+4uTzBGGWEw3eDYIiH0ettb3kViJsI7RoA  114         \n",
       "\n",
       "                                                  qnumchars_lessThan_182_xnum_ans  \\\n",
       "AAEAALxMqeRHdD7LRQLR7RZfcSXRNvMoqdZQ1GAKFrFutwlU  6                                 \n",
       "AAEAAAM93+e/vn8MQXZUdE4ECSfPVr/TY1wGwYU33sRFZOLU  0                                 \n",
       "AAEAAHioJGo60T+xv1nrk+HnPJ68sHjUVAktaItioPwvRV1w  0                                 \n",
       "AAEAAM9qePqcSQmZK+lRCFDMJ5Zx7l/MkW4smb8WROdeqZmK  1                                 \n",
       "AAEAAI2b9z3fIB+4uTzBGGWEw3eDYIiH0ettb3kViJsI7RoA  3                                 \n",
       "\n",
       "                                                  topics_followers  \n",
       "AAEAALxMqeRHdD7LRQLR7RZfcSXRNvMoqdZQ1GAKFrFutwlU  65367             \n",
       "AAEAAAM93+e/vn8MQXZUdE4ECSfPVr/TY1wGwYU33sRFZOLU  3210              \n",
       "AAEAAHioJGo60T+xv1nrk+HnPJ68sHjUVAktaItioPwvRV1w  24161             \n",
       "AAEAAM9qePqcSQmZK+lRCFDMJ5Zx7l/MkW4smb8WROdeqZmK  15157             \n",
       "AAEAAI2b9z3fIB+4uTzBGGWEw3eDYIiH0ettb3kViJsI7RoA  19195             "
      ]
     },
     "execution_count": 10,
     "metadata": {},
     "output_type": "execute_result"
    }
   ],
   "source": [
    "x_train.head()"
   ]
  },
  {
   "cell_type": "markdown",
   "metadata": {},
   "source": [
    "---"
   ]
  },
  {
   "cell_type": "markdown",
   "metadata": {
    "collapsed": true
   },
   "source": [
    "### 1.1.3 Pipeline"
   ]
  },
  {
   "cell_type": "code",
   "execution_count": 11,
   "metadata": {
    "collapsed": true
   },
   "outputs": [],
   "source": [
    "# RobustScaler\n",
    "from sklearn.preprocessing import RobustScaler\n",
    "scaler = RobustScaler(quantile_range=(5,95)).fit(x_train)"
   ]
  },
  {
   "cell_type": "code",
   "execution_count": 12,
   "metadata": {
    "collapsed": true
   },
   "outputs": [],
   "source": [
    "X_train = scaler.transform(x_train)\n",
    "X_test = scaler.transform(x_test) #it's okay not to do it now"
   ]
  },
  {
   "cell_type": "markdown",
   "metadata": {},
   "source": [
    "---"
   ]
  },
  {
   "cell_type": "markdown",
   "metadata": {
    "collapsed": true
   },
   "source": [
    "### 1.1.4 Correlation Heatmap on Scaled Data"
   ]
  },
  {
   "cell_type": "code",
   "execution_count": 13,
   "metadata": {
    "collapsed": true
   },
   "outputs": [],
   "source": [
    "xt_columns = list(df_n.columns)\n",
    "xt_columns.remove('__ans__') # columns of X_train"
   ]
  },
  {
   "cell_type": "code",
   "execution_count": 14,
   "metadata": {},
   "outputs": [
    {
     "data": {
      "text/plain": [
       "['anonymous',\n",
       " 'num_answers',\n",
       " 'context_xnum_ans',\n",
       " 'num_ans>= 29',\n",
       " 'qcontains_comb_1_xnum_ans',\n",
       " 'len_chars',\n",
       " 'qnumchars_lessThan_182_xnum_ans',\n",
       " 'topics_followers']"
      ]
     },
     "execution_count": 14,
     "metadata": {},
     "output_type": "execute_result"
    }
   ],
   "source": [
    "xt_columns"
   ]
  },
  {
   "cell_type": "code",
   "execution_count": 15,
   "metadata": {
    "collapsed": true
   },
   "outputs": [],
   "source": [
    "X_train_df = pd.DataFrame(X_train, columns=xt_columns, index=x_train.index) # X_train and y_train are not dataframes initially\n",
    "y_train_df = pd.DataFrame(y_train, columns=['__ans__'])\n",
    "df_for_corr = pd.concat([y_train_df, X_train_df], axis=1)"
   ]
  },
  {
   "cell_type": "code",
   "execution_count": 16,
   "metadata": {},
   "outputs": [
    {
     "data": {
      "text/html": [
       "<div>\n",
       "<style>\n",
       "    .dataframe thead tr:only-child th {\n",
       "        text-align: right;\n",
       "    }\n",
       "\n",
       "    .dataframe thead th {\n",
       "        text-align: left;\n",
       "    }\n",
       "\n",
       "    .dataframe tbody tr th {\n",
       "        vertical-align: top;\n",
       "    }\n",
       "</style>\n",
       "<table border=\"1\" class=\"dataframe\">\n",
       "  <thead>\n",
       "    <tr style=\"text-align: right;\">\n",
       "      <th></th>\n",
       "      <th>__ans__</th>\n",
       "      <th>anonymous</th>\n",
       "      <th>num_answers</th>\n",
       "      <th>context_xnum_ans</th>\n",
       "      <th>num_ans&gt;= 29</th>\n",
       "      <th>qcontains_comb_1_xnum_ans</th>\n",
       "      <th>len_chars</th>\n",
       "      <th>qnumchars_lessThan_182_xnum_ans</th>\n",
       "      <th>topics_followers</th>\n",
       "    </tr>\n",
       "  </thead>\n",
       "  <tbody>\n",
       "    <tr>\n",
       "      <th>AAEAALxMqeRHdD7LRQLR7RZfcSXRNvMoqdZQ1GAKFrFutwlU</th>\n",
       "      <td>8.963964</td>\n",
       "      <td>1.0</td>\n",
       "      <td>0.833333</td>\n",
       "      <td>0.833333</td>\n",
       "      <td>0.0</td>\n",
       "      <td>1.50</td>\n",
       "      <td>-0.050000</td>\n",
       "      <td>0.833333</td>\n",
       "      <td>0.023846</td>\n",
       "    </tr>\n",
       "    <tr>\n",
       "      <th>AAEAAAM93+e/vn8MQXZUdE4ECSfPVr/TY1wGwYU33sRFZOLU</th>\n",
       "      <td>2.357895</td>\n",
       "      <td>0.0</td>\n",
       "      <td>-0.166667</td>\n",
       "      <td>-0.166667</td>\n",
       "      <td>0.0</td>\n",
       "      <td>0.00</td>\n",
       "      <td>-0.066667</td>\n",
       "      <td>-0.166667</td>\n",
       "      <td>-0.065350</td>\n",
       "    </tr>\n",
       "    <tr>\n",
       "      <th>AAEAAHioJGo60T+xv1nrk+HnPJ68sHjUVAktaItioPwvRV1w</th>\n",
       "      <td>1.292683</td>\n",
       "      <td>1.0</td>\n",
       "      <td>-0.166667</td>\n",
       "      <td>-0.166667</td>\n",
       "      <td>0.0</td>\n",
       "      <td>0.00</td>\n",
       "      <td>-0.041667</td>\n",
       "      <td>-0.166667</td>\n",
       "      <td>-0.035285</td>\n",
       "    </tr>\n",
       "    <tr>\n",
       "      <th>AAEAAM9qePqcSQmZK+lRCFDMJ5Zx7l/MkW4smb8WROdeqZmK</th>\n",
       "      <td>2.608696</td>\n",
       "      <td>0.0</td>\n",
       "      <td>0.000000</td>\n",
       "      <td>0.000000</td>\n",
       "      <td>0.0</td>\n",
       "      <td>0.25</td>\n",
       "      <td>0.441667</td>\n",
       "      <td>0.000000</td>\n",
       "      <td>-0.048205</td>\n",
       "    </tr>\n",
       "    <tr>\n",
       "      <th>AAEAAI2b9z3fIB+4uTzBGGWEw3eDYIiH0ettb3kViJsI7RoA</th>\n",
       "      <td>4.585366</td>\n",
       "      <td>1.0</td>\n",
       "      <td>0.333333</td>\n",
       "      <td>0.333333</td>\n",
       "      <td>0.0</td>\n",
       "      <td>0.75</td>\n",
       "      <td>0.416667</td>\n",
       "      <td>0.333333</td>\n",
       "      <td>-0.042411</td>\n",
       "    </tr>\n",
       "  </tbody>\n",
       "</table>\n",
       "</div>"
      ],
      "text/plain": [
       "                                                   __ans__  anonymous  \\\n",
       "AAEAALxMqeRHdD7LRQLR7RZfcSXRNvMoqdZQ1GAKFrFutwlU  8.963964  1.0         \n",
       "AAEAAAM93+e/vn8MQXZUdE4ECSfPVr/TY1wGwYU33sRFZOLU  2.357895  0.0         \n",
       "AAEAAHioJGo60T+xv1nrk+HnPJ68sHjUVAktaItioPwvRV1w  1.292683  1.0         \n",
       "AAEAAM9qePqcSQmZK+lRCFDMJ5Zx7l/MkW4smb8WROdeqZmK  2.608696  0.0         \n",
       "AAEAAI2b9z3fIB+4uTzBGGWEw3eDYIiH0ettb3kViJsI7RoA  4.585366  1.0         \n",
       "\n",
       "                                                  num_answers  \\\n",
       "AAEAALxMqeRHdD7LRQLR7RZfcSXRNvMoqdZQ1GAKFrFutwlU  0.833333      \n",
       "AAEAAAM93+e/vn8MQXZUdE4ECSfPVr/TY1wGwYU33sRFZOLU -0.166667      \n",
       "AAEAAHioJGo60T+xv1nrk+HnPJ68sHjUVAktaItioPwvRV1w -0.166667      \n",
       "AAEAAM9qePqcSQmZK+lRCFDMJ5Zx7l/MkW4smb8WROdeqZmK  0.000000      \n",
       "AAEAAI2b9z3fIB+4uTzBGGWEw3eDYIiH0ettb3kViJsI7RoA  0.333333      \n",
       "\n",
       "                                                  context_xnum_ans  \\\n",
       "AAEAALxMqeRHdD7LRQLR7RZfcSXRNvMoqdZQ1GAKFrFutwlU  0.833333           \n",
       "AAEAAAM93+e/vn8MQXZUdE4ECSfPVr/TY1wGwYU33sRFZOLU -0.166667           \n",
       "AAEAAHioJGo60T+xv1nrk+HnPJ68sHjUVAktaItioPwvRV1w -0.166667           \n",
       "AAEAAM9qePqcSQmZK+lRCFDMJ5Zx7l/MkW4smb8WROdeqZmK  0.000000           \n",
       "AAEAAI2b9z3fIB+4uTzBGGWEw3eDYIiH0ettb3kViJsI7RoA  0.333333           \n",
       "\n",
       "                                                  num_ans>= 29  \\\n",
       "AAEAALxMqeRHdD7LRQLR7RZfcSXRNvMoqdZQ1GAKFrFutwlU  0.0            \n",
       "AAEAAAM93+e/vn8MQXZUdE4ECSfPVr/TY1wGwYU33sRFZOLU  0.0            \n",
       "AAEAAHioJGo60T+xv1nrk+HnPJ68sHjUVAktaItioPwvRV1w  0.0            \n",
       "AAEAAM9qePqcSQmZK+lRCFDMJ5Zx7l/MkW4smb8WROdeqZmK  0.0            \n",
       "AAEAAI2b9z3fIB+4uTzBGGWEw3eDYIiH0ettb3kViJsI7RoA  0.0            \n",
       "\n",
       "                                                  qcontains_comb_1_xnum_ans  \\\n",
       "AAEAALxMqeRHdD7LRQLR7RZfcSXRNvMoqdZQ1GAKFrFutwlU  1.50                        \n",
       "AAEAAAM93+e/vn8MQXZUdE4ECSfPVr/TY1wGwYU33sRFZOLU  0.00                        \n",
       "AAEAAHioJGo60T+xv1nrk+HnPJ68sHjUVAktaItioPwvRV1w  0.00                        \n",
       "AAEAAM9qePqcSQmZK+lRCFDMJ5Zx7l/MkW4smb8WROdeqZmK  0.25                        \n",
       "AAEAAI2b9z3fIB+4uTzBGGWEw3eDYIiH0ettb3kViJsI7RoA  0.75                        \n",
       "\n",
       "                                                  len_chars  \\\n",
       "AAEAALxMqeRHdD7LRQLR7RZfcSXRNvMoqdZQ1GAKFrFutwlU -0.050000    \n",
       "AAEAAAM93+e/vn8MQXZUdE4ECSfPVr/TY1wGwYU33sRFZOLU -0.066667    \n",
       "AAEAAHioJGo60T+xv1nrk+HnPJ68sHjUVAktaItioPwvRV1w -0.041667    \n",
       "AAEAAM9qePqcSQmZK+lRCFDMJ5Zx7l/MkW4smb8WROdeqZmK  0.441667    \n",
       "AAEAAI2b9z3fIB+4uTzBGGWEw3eDYIiH0ettb3kViJsI7RoA  0.416667    \n",
       "\n",
       "                                                  qnumchars_lessThan_182_xnum_ans  \\\n",
       "AAEAALxMqeRHdD7LRQLR7RZfcSXRNvMoqdZQ1GAKFrFutwlU  0.833333                          \n",
       "AAEAAAM93+e/vn8MQXZUdE4ECSfPVr/TY1wGwYU33sRFZOLU -0.166667                          \n",
       "AAEAAHioJGo60T+xv1nrk+HnPJ68sHjUVAktaItioPwvRV1w -0.166667                          \n",
       "AAEAAM9qePqcSQmZK+lRCFDMJ5Zx7l/MkW4smb8WROdeqZmK  0.000000                          \n",
       "AAEAAI2b9z3fIB+4uTzBGGWEw3eDYIiH0ettb3kViJsI7RoA  0.333333                          \n",
       "\n",
       "                                                  topics_followers  \n",
       "AAEAALxMqeRHdD7LRQLR7RZfcSXRNvMoqdZQ1GAKFrFutwlU  0.023846          \n",
       "AAEAAAM93+e/vn8MQXZUdE4ECSfPVr/TY1wGwYU33sRFZOLU -0.065350          \n",
       "AAEAAHioJGo60T+xv1nrk+HnPJ68sHjUVAktaItioPwvRV1w -0.035285          \n",
       "AAEAAM9qePqcSQmZK+lRCFDMJ5Zx7l/MkW4smb8WROdeqZmK -0.048205          \n",
       "AAEAAI2b9z3fIB+4uTzBGGWEw3eDYIiH0ettb3kViJsI7RoA -0.042411          "
      ]
     },
     "execution_count": 16,
     "metadata": {},
     "output_type": "execute_result"
    }
   ],
   "source": [
    "df_for_corr.head()"
   ]
  },
  {
   "cell_type": "code",
   "execution_count": 17,
   "metadata": {},
   "outputs": [
    {
     "data": {
      "text/plain": [
       "<matplotlib.axes._subplots.AxesSubplot at 0x7f0771e536d8>"
      ]
     },
     "execution_count": 17,
     "metadata": {},
     "output_type": "execute_result"
    },
    {
     "data": {
      "image/png": "[encoded data removed]",
      "text/plain": [
       "<matplotlib.figure.Figure at 0x7f07ac5129b0>"
      ]
     },
     "metadata": {},
     "output_type": "display_data"
    }
   ],
   "source": [
    "sns.set(context=\"paper\")\n",
    "corrmat_1 = df_for_corr.corr()\n",
    "f, ax = plt.subplots(figsize=(14, 10))\n",
    "f.text(0.45, 0.93, \"Correlation coefficients\", ha='center')\n",
    "sns.heatmap(corrmat_1, square=True, linewidths=0.01, cmap='coolwarm', annot=True)"
   ]
  },
  {
   "cell_type": "markdown",
   "metadata": {},
   "source": [
    "---"
   ]
  },
  {
   "cell_type": "markdown",
   "metadata": {
    "collapsed": true
   },
   "source": [
    "### 1.1.4 The Model: Linear Regressor"
   ]
  },
  {
   "cell_type": "code",
   "execution_count": 18,
   "metadata": {
    "collapsed": true
   },
   "outputs": [],
   "source": [
    "from sklearn.linear_model import LinearRegression\n",
    "import numpy as np\n",
    "from sklearn.metrics import mean_squared_error\n",
    "\n",
    "lin_reg = LinearRegression()\n",
    "lin_reg.fit(X_train, y_train)\n",
    "\n",
    "y_pred_train_lin = lin_reg.predict(X_train)"
   ]
  },
  {
   "cell_type": "code",
   "execution_count": 19,
   "metadata": {
    "collapsed": true
   },
   "outputs": [],
   "source": [
    "lin_rmse_train = np.sqrt(mean_squared_error(y_pred_train_lin, y_train))"
   ]
  },
  {
   "cell_type": "code",
   "execution_count": 20,
   "metadata": {},
   "outputs": [
    {
     "data": {
      "text/plain": [
       "35.577457277086971"
      ]
     },
     "execution_count": 20,
     "metadata": {},
     "output_type": "execute_result"
    }
   ],
   "source": [
    "lin_rmse_train"
   ]
  },
  {
   "cell_type": "markdown",
   "metadata": {},
   "source": [
    "And on the test set:"
   ]
  },
  {
   "cell_type": "code",
   "execution_count": 21,
   "metadata": {},
   "outputs": [
    {
     "data": {
      "text/plain": [
       "27.412774376231066"
      ]
     },
     "execution_count": 21,
     "metadata": {},
     "output_type": "execute_result"
    }
   ],
   "source": [
    "y_pred_test_lin = lin_reg.predict(X_test)\n",
    "lin_rmse_test = np.sqrt(mean_squared_error(y_pred_test_lin, y_test))\n",
    "lin_rmse_test"
   ]
  },
  {
   "cell_type": "code",
   "execution_count": 22,
   "metadata": {},
   "outputs": [
    {
     "data": {
      "text/plain": [
       "count    9000.000000\n",
       "mean     7.753822   \n",
       "std      37.803602  \n",
       "min      0.000000   \n",
       "25%      0.457780   \n",
       "50%      1.328110   \n",
       "75%      4.019578   \n",
       "max      1569.000000\n",
       "Name: __ans__, dtype: float64"
      ]
     },
     "execution_count": 22,
     "metadata": {},
     "output_type": "execute_result"
    }
   ],
   "source": [
    "df_n['__ans__'].describe()"
   ]
  },
  {
   "cell_type": "code",
   "execution_count": 23,
   "metadata": {},
   "outputs": [
    {
     "data": {
      "text/plain": [
       "array([  8.96396396,   2.35789474,   1.29268293, ...,   2.55102041,\n",
       "         2.59409594,  30.5625    ])"
      ]
     },
     "execution_count": 23,
     "metadata": {},
     "output_type": "execute_result"
    }
   ],
   "source": [
    "y_train.values"
   ]
  },
  {
   "cell_type": "code",
   "execution_count": 24,
   "metadata": {},
   "outputs": [
    {
     "data": {
      "image/png": "[encoded data removed]",
      "text/plain": [
       "<matplotlib.figure.Figure at 0x7f07634e3e80>"
      ]
     },
     "metadata": {},
     "output_type": "display_data"
    },
    {
     "data": {
      "text/plain": [
       "<ggplot: (-9223363307484700107)>"
      ]
     },
     "execution_count": 24,
     "metadata": {},
     "output_type": "execute_result"
    }
   ],
   "source": [
    "from plotnine import *\n",
    "(ggplot(x_test, aes(x=y_test.values, y=y_pred_test_lin)) + theme_bw() + geom_point() + geom_smooth())"
   ]
  },
  {
   "cell_type": "code",
   "execution_count": 25,
   "metadata": {},
   "outputs": [
    {
     "data": {
      "text/plain": [
       "0.0023238938399101627"
      ]
     },
     "execution_count": 25,
     "metadata": {},
     "output_type": "execute_result"
    }
   ],
   "source": [
    "min(abs((y_train.values - y_pred_train_lin)))"
   ]
  },
  {
   "cell_type": "markdown",
   "metadata": {
    "collapsed": true
   },
   "source": [
    "## 1.2 Cross Validation"
   ]
  },
  {
   "cell_type": "code",
   "execution_count": 26,
   "metadata": {
    "collapsed": true
   },
   "outputs": [],
   "source": [
    "from sklearn.model_selection import cross_val_score\n",
    "scores = cross_val_score(lin_reg, X_train, y_train,\n",
    "                        scoring = 'neg_mean_squared_error', cv=10)\n",
    "rmse_scores = np.sqrt(-scores)"
   ]
  },
  {
   "cell_type": "code",
   "execution_count": 27,
   "metadata": {},
   "outputs": [
    {
     "data": {
      "text/plain": [
       "35.416113934311198"
      ]
     },
     "execution_count": 27,
     "metadata": {},
     "output_type": "execute_result"
    }
   ],
   "source": [
    "rmse_scores.mean() #mean"
   ]
  },
  {
   "cell_type": "code",
   "execution_count": 28,
   "metadata": {},
   "outputs": [
    {
     "data": {
      "text/plain": [
       "11.20042007459222"
      ]
     },
     "execution_count": 28,
     "metadata": {},
     "output_type": "execute_result"
    }
   ],
   "source": [
    "rmse_scores.std()"
   ]
  },
  {
   "cell_type": "code",
   "execution_count": 29,
   "metadata": {},
   "outputs": [
    {
     "data": {
      "text/plain": [
       "count    9000.000000\n",
       "mean     7.753822   \n",
       "std      37.803602  \n",
       "min      0.000000   \n",
       "25%      0.457780   \n",
       "50%      1.328110   \n",
       "75%      4.019578   \n",
       "max      1569.000000\n",
       "Name: __ans__, dtype: float64"
      ]
     },
     "execution_count": 29,
     "metadata": {},
     "output_type": "execute_result"
    }
   ],
   "source": [
    "df_n.__ans__.describe()"
   ]
  },
  {
   "cell_type": "markdown",
   "metadata": {},
   "source": [
    "---"
   ]
  },
  {
   "cell_type": "markdown",
   "metadata": {},
   "source": [
    "## 1.3 Conclusion"
   ]
  },
  {
   "cell_type": "markdown",
   "metadata": {},
   "source": [
    "Since, most of the target values lie between 0.458 and 4.02, our model, which has 35.42 `rmse` cv score, is still underfitting. So our next option is **to either select a more powerful model**, or to **reduce the constraints (aka hyperparameters) on the model**. But, this linear regression model is not regularized, so it must be that we haven't explored the features well, or have to go with a more powerful model.\n",
    "\n",
    "On this challenge, I don't wish to spend more time on the feature engineering than I already have. So, I will resort to more powerful models. "
   ]
  },
  {
   "cell_type": "markdown",
   "metadata": {},
   "source": [
    "---"
   ]
  },
  {
   "cell_type": "markdown",
   "metadata": {},
   "source": [
    "# 2. Decision Tree Regression "
   ]
  },
  {
   "cell_type": "code",
   "execution_count": 30,
   "metadata": {},
   "outputs": [
    {
     "data": {
      "text/plain": [
       "0.21015602747749365"
      ]
     },
     "execution_count": 30,
     "metadata": {},
     "output_type": "execute_result"
    }
   ],
   "source": [
    "from sklearn.tree import DecisionTreeRegressor\n",
    "\n",
    "tree_reg = DecisionTreeRegressor()\n",
    "tree_reg.fit(X_train, y_train)\n",
    "\n",
    "y_train_tree_pred = tree_reg.predict(X_train)\n",
    "tree_mse = mean_squared_error(y_train, y_train_tree_pred)\n",
    "tree_rmse = np.sqrt(tree_mse)\n",
    "tree_rmse"
   ]
  },
  {
   "cell_type": "markdown",
   "metadata": {},
   "source": [
    "This is quite impressive! But it could also be that the model is overfitting, so let's do cross validation."
   ]
  },
  {
   "cell_type": "code",
   "execution_count": 31,
   "metadata": {},
   "outputs": [
    {
     "name": "stdout",
     "output_type": "stream",
     "text": [
      "mean: 53.7196423914 and std: 11.4081543102\n"
     ]
    }
   ],
   "source": [
    "scores_tree = cross_val_score(tree_reg, X_train, y_train,\n",
    "                             scoring='neg_mean_squared_error', cv=10)\n",
    "rmse_scores_tree = np.sqrt(-scores_tree)\n",
    "print('mean:', rmse_scores_tree.mean(), 'and', 'std:', rmse_scores_tree.std())"
   ]
  },
  {
   "cell_type": "code",
   "execution_count": 32,
   "metadata": {},
   "outputs": [
    {
     "data": {
      "text/plain": [
       "array([ 64.78418304,  51.36554087,  47.91465552,  74.58186978,\n",
       "        37.18069067,  53.85227643,  44.40210953,  68.46412685,\n",
       "        52.07008   ,  42.58089123])"
      ]
     },
     "execution_count": 32,
     "metadata": {},
     "output_type": "execute_result"
    }
   ],
   "source": [
    "rmse_scores_tree"
   ]
  },
  {
   "cell_type": "markdown",
   "metadata": {},
   "source": [
    "Yes, our fears are real. It overfit."
   ]
  },
  {
   "cell_type": "code",
   "execution_count": 33,
   "metadata": {},
   "outputs": [
    {
     "data": {
      "text/plain": [
       "40.118241136241032"
      ]
     },
     "execution_count": 33,
     "metadata": {},
     "output_type": "execute_result"
    }
   ],
   "source": [
    "y_test_tree_pred = tree_reg.predict(X_test)\n",
    "tree_mse_test = mean_squared_error(y_test, y_test_tree_pred)\n",
    "tree_rmse_test = np.sqrt(tree_mse_test)\n",
    "tree_rmse_test"
   ]
  },
  {
   "cell_type": "markdown",
   "metadata": {},
   "source": [
    "It does worse on the test data as the CV score had told us. "
   ]
  },
  {
   "cell_type": "markdown",
   "metadata": {},
   "source": [
    "# 3. Random Forest Tree Regression "
   ]
  },
  {
   "cell_type": "code",
   "execution_count": 34,
   "metadata": {},
   "outputs": [
    {
     "data": {
      "text/plain": [
       "19.963076020575031"
      ]
     },
     "execution_count": 34,
     "metadata": {},
     "output_type": "execute_result"
    }
   ],
   "source": [
    "from sklearn.ensemble import RandomForestRegressor\n",
    "\n",
    "forest_reg = RandomForestRegressor()\n",
    "forest_reg.fit(X_train, y_train)\n",
    "\n",
    "y_train_forest_pred = forest_reg.predict(X_train)\n",
    "forest_mse = mean_squared_error(y_train, y_train_forest_pred)\n",
    "forest_rmse = np.sqrt(forest_mse)\n",
    "forest_rmse"
   ]
  },
  {
   "cell_type": "markdown",
   "metadata": {},
   "source": [
    "## 3.1 CV"
   ]
  },
  {
   "cell_type": "code",
   "execution_count": 35,
   "metadata": {},
   "outputs": [
    {
     "name": "stdout",
     "output_type": "stream",
     "text": [
      "mean: 39.1550041642 and std: 10.8608651215\n"
     ]
    }
   ],
   "source": [
    "scores_forest = cross_val_score(forest_reg, X_train, y_train,\n",
    "                             scoring='neg_mean_squared_error', cv=10)\n",
    "rmse_scores_forest = np.sqrt(-scores_forest)\n",
    "print('mean:', rmse_scores_forest.mean(), 'and', 'std:', rmse_scores_forest.std())"
   ]
  },
  {
   "cell_type": "markdown",
   "metadata": {},
   "source": [
    "Forest tree also overfit on the training set."
   ]
  },
  {
   "cell_type": "markdown",
   "metadata": {},
   "source": [
    "We will have to regularize it."
   ]
  },
  {
   "cell_type": "markdown",
   "metadata": {},
   "source": [
    "## 3.2 Grid Search"
   ]
  },
  {
   "cell_type": "markdown",
   "metadata": {},
   "source": [
    "Let's the best combination of hyperparameter values for the `RandomForestRegressor`. The grid search will explore 18 combinations of hyperparameter values and will train each model 5 times per cv. "
   ]
  },
  {
   "cell_type": "code",
   "execution_count": 36,
   "metadata": {},
   "outputs": [
    {
     "data": {
      "text/plain": [
       "GridSearchCV(cv=5, error_score='raise',\n",
       "       estimator=RandomForestRegressor(bootstrap=True, criterion='mse', max_depth=None,\n",
       "           max_features='auto', max_leaf_nodes=None,\n",
       "           min_impurity_decrease=0.0, min_impurity_split=None,\n",
       "           min_samples_leaf=1, min_samples_split=2,\n",
       "           min_weight_fraction_leaf=0.0, n_estimators=10, n_jobs=1,\n",
       "           oob_score=False, random_state=None, verbose=0, warm_start=False),\n",
       "       fit_params=None, iid=True, n_jobs=1,\n",
       "       param_grid=[{'n_estimators': [3, 10, 30], 'max_features': [2, 4, 6, 8]}, {'bootstrap': [False], 'n_estimators': [3, 10], 'max_features': [2, 3, 4]}],\n",
       "       pre_dispatch='2*n_jobs', refit=True, return_train_score=True,\n",
       "       scoring='neg_mean_squared_error', verbose=0)"
      ]
     },
     "execution_count": 36,
     "metadata": {},
     "output_type": "execute_result"
    }
   ],
   "source": [
    "from sklearn.model_selection import GridSearchCV\n",
    "param_grid = [\n",
    "    {'n_estimators': [3, 10, 30], 'max_features': [2, 4, 6, 8]},\n",
    "    {'bootstrap': [False], 'n_estimators': [3, 10], 'max_features': [2, 3, 4]}\n",
    "]\n",
    "\n",
    "forest_reg = RandomForestRegressor()\n",
    "\n",
    "grid_search = GridSearchCV(forest_reg, param_grid, cv=5,\n",
    "                          scoring ='neg_mean_squared_error')\n",
    "\n",
    "grid_search.fit(X_train, y_train)"
   ]
  },
  {
   "cell_type": "code",
   "execution_count": 37,
   "metadata": {},
   "outputs": [
    {
     "data": {
      "text/plain": [
       "{'max_features': 8, 'n_estimators': 30}"
      ]
     },
     "execution_count": 37,
     "metadata": {},
     "output_type": "execute_result"
    }
   ],
   "source": [
    "grid_search.best_params_"
   ]
  },
  {
   "cell_type": "markdown",
   "metadata": {},
   "source": [
    "## 3.3 Reevaluating Features"
   ]
  },
  {
   "cell_type": "code",
   "execution_count": 38,
   "metadata": {},
   "outputs": [
    {
     "name": "stdout",
     "output_type": "stream",
     "text": [
      "43.6570904957 {'max_features': 2, 'n_estimators': 3}\n",
      "41.773685902 {'max_features': 2, 'n_estimators': 10}\n",
      "40.2027035533 {'max_features': 2, 'n_estimators': 30}\n",
      "43.7459254502 {'max_features': 4, 'n_estimators': 3}\n",
      "40.4711437636 {'max_features': 4, 'n_estimators': 10}\n",
      "39.8491555897 {'max_features': 4, 'n_estimators': 30}\n",
      "44.4979222483 {'max_features': 6, 'n_estimators': 3}\n",
      "40.3816674977 {'max_features': 6, 'n_estimators': 10}\n",
      "39.3915194217 {'max_features': 6, 'n_estimators': 30}\n",
      "44.2674467359 {'max_features': 8, 'n_estimators': 3}\n",
      "40.1047937263 {'max_features': 8, 'n_estimators': 10}\n",
      "38.7952446721 {'max_features': 8, 'n_estimators': 30}\n",
      "44.6839286153 {'bootstrap': False, 'max_features': 2, 'n_estimators': 3}\n",
      "40.5933111657 {'bootstrap': False, 'max_features': 2, 'n_estimators': 10}\n",
      "44.5506702186 {'bootstrap': False, 'max_features': 3, 'n_estimators': 3}\n",
      "42.1892195573 {'bootstrap': False, 'max_features': 3, 'n_estimators': 10}\n",
      "42.4504072838 {'bootstrap': False, 'max_features': 4, 'n_estimators': 3}\n",
      "41.5845045988 {'bootstrap': False, 'max_features': 4, 'n_estimators': 10}\n"
     ]
    }
   ],
   "source": [
    "cvres = grid_search.cv_results_\n",
    "for mean_score, params in zip(cvres['mean_test_score'], cvres['params']):\n",
    "    print(np.sqrt(-mean_score), params)"
   ]
  },
  {
   "cell_type": "code",
   "execution_count": 39,
   "metadata": {},
   "outputs": [
    {
     "data": {
      "text/plain": [
       "array([ 0.04623405,  0.05406735,  0.08299496,  0.00696667,  0.16950142,\n",
       "        0.19896395,  0.113727  ,  0.32754461])"
      ]
     },
     "execution_count": 39,
     "metadata": {},
     "output_type": "execute_result"
    }
   ],
   "source": [
    "feature_importances = grid_search.best_estimator_.feature_importances_\n",
    "feature_importances"
   ]
  },
  {
   "cell_type": "code",
   "execution_count": 40,
   "metadata": {},
   "outputs": [
    {
     "data": {
      "text/plain": [
       "[(0.32754460563622456, 'topics_followers'),\n",
       " (0.19896394932298336, 'len_chars'),\n",
       " (0.1695014156680402, 'qcontains_comb_1_xnum_ans'),\n",
       " (0.11372700428150165, 'qnumchars_lessThan_182_xnum_ans'),\n",
       " (0.082994961469203168, 'context_xnum_ans'),\n",
       " (0.054067347259997553, 'num_answers'),\n",
       " (0.046234046528528805, 'anonymous'),\n",
       " (0.0069666698335205703, 'num_ans>= 29')]"
      ]
     },
     "execution_count": 40,
     "metadata": {},
     "output_type": "execute_result"
    }
   ],
   "source": [
    "sorted(zip(feature_importances, X_train_df.columns), reverse=True)"
   ]
  },
  {
   "cell_type": "markdown",
   "metadata": {},
   "source": [
    "It appears that `num_ans>=29` is not really important, while on the other hand, `topics_followers` is the most important feature of all. Let's see if dropping it will improve things."
   ]
  },
  {
   "cell_type": "code",
   "execution_count": 43,
   "metadata": {},
   "outputs": [],
   "source": [
    "X_train_df_last = X_train_df.drop(['num_ans>= 29'], axis=1)"
   ]
  },
  {
   "cell_type": "code",
   "execution_count": 45,
   "metadata": {
    "collapsed": true
   },
   "outputs": [],
   "source": [
    "X_train_last = X_train_df_last.values"
   ]
  },
  {
   "cell_type": "code",
   "execution_count": 47,
   "metadata": {},
   "outputs": [
    {
     "data": {
      "text/plain": [
       "14.510613164878011"
      ]
     },
     "execution_count": 47,
     "metadata": {},
     "output_type": "execute_result"
    }
   ],
   "source": [
    "forest_reg.fit(X_train_last, y_train)\n",
    "y_train_forest_pred_last = forest_reg.predict(X_train_last)\n",
    "forest_mse_last = mean_squared_error(y_train, y_train_forest_pred_last)\n",
    "forest_rmse_last = np.sqrt(forest_mse_last)\n",
    "forest_rmse_last"
   ]
  },
  {
   "cell_type": "code",
   "execution_count": 48,
   "metadata": {
    "scrolled": true
   },
   "outputs": [
    {
     "name": "stdout",
     "output_type": "stream",
     "text": [
      "mean: 38.6006762742 and std: 11.2133013939\n"
     ]
    }
   ],
   "source": [
    "scores_forest_last = cross_val_score(forest_reg, X_train_last, y_train,\n",
    "                             scoring='neg_mean_squared_error', cv=10)\n",
    "rmse_scores_forest_last = np.sqrt(-scores_forest_last)\n",
    "print('mean:', rmse_scores_forest_last.mean(), 'and', 'std:', rmse_scores_forest_last.std())"
   ]
  },
  {
   "cell_type": "markdown",
   "metadata": {},
   "source": [
    "Sure, it improved by 1 but not really a big difference. How about on the test set?"
   ]
  },
  {
   "cell_type": "code",
   "execution_count": 51,
   "metadata": {},
   "outputs": [],
   "source": [
    "X_test_df_last = pd.DataFrame(X_test) #num>=29 is the fourth column"
   ]
  },
  {
   "cell_type": "code",
   "execution_count": 56,
   "metadata": {},
   "outputs": [],
   "source": [
    "X_test_df_last.drop([3], axis=1, inplace=True)"
   ]
  },
  {
   "cell_type": "code",
   "execution_count": 58,
   "metadata": {
    "collapsed": true
   },
   "outputs": [],
   "source": [
    "X_test_last = X_test_df_last.values"
   ]
  },
  {
   "cell_type": "code",
   "execution_count": 59,
   "metadata": {},
   "outputs": [
    {
     "data": {
      "text/plain": [
       "13.597086633754801"
      ]
     },
     "execution_count": 59,
     "metadata": {},
     "output_type": "execute_result"
    }
   ],
   "source": [
    "forest_reg.fit(X_test_last, y_test)\n",
    "y_test_forest_pred_last = forest_reg.predict(X_test_last)\n",
    "forest_mse_last = mean_squared_error(y_test, y_test_forest_pred_last)\n",
    "forest_rmse_last = np.sqrt(forest_mse_last)\n",
    "forest_rmse_last"
   ]
  },
  {
   "cell_type": "code",
   "execution_count": 60,
   "metadata": {
    "scrolled": true
   },
   "outputs": [
    {
     "name": "stdout",
     "output_type": "stream",
     "text": [
      "mean: 26.4482346933 and std: 13.9913926501\n"
     ]
    }
   ],
   "source": [
    "scores_forest_last = cross_val_score(forest_reg, X_test_last, y_test,\n",
    "                             scoring='neg_mean_squared_error', cv=10)\n",
    "rmse_scores_forest_last = np.sqrt(-scores_forest_last)\n",
    "print('mean:', rmse_scores_forest_last.mean(), 'and', 'std:', rmse_scores_forest_last.std())"
   ]
  },
  {
   "cell_type": "markdown",
   "metadata": {},
   "source": [
    "We have improved the model! We will stop here for now."
   ]
  },
  {
   "cell_type": "markdown",
   "metadata": {},
   "source": [
    "---"
   ]
  }
 ],
 "metadata": {
  "kernelspec": {
   "display_name": "Python 3",
   "language": "python",
   "name": "python3"
  },
  "language_info": {
   "codemirror_mode": {
    "name": "ipython",
    "version": 3
   },
   "file_extension": ".py",
   "mimetype": "text/x-python",
   "name": "python",
   "nbconvert_exporter": "python",
   "pygments_lexer": "ipython3",
   "version": "3.6.2"
  }
 },
 "nbformat": 4,
 "nbformat_minor": 2
}
