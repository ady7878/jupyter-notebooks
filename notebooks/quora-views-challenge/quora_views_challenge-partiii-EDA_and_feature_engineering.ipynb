{
 "cells": [
  {
   "cell_type": "markdown",
   "metadata": {},
   "source": [
    "# Quora Views Prediction Challenge - Part III - EDA and Feature Engineering"
   ]
  },
  {
   "cell_type": "code",
   "execution_count": 32,
   "metadata": {
    "collapsed": true
   },
   "outputs": [],
   "source": [
    "import pandas as pd\n",
    "import json\n",
    "json_data = open('../views/sample/input00.in') # Edit this to where you have put the input00.in file\n",
    "\n",
    "data = []\n",
    "for line in json_data:\n",
    "    data.append(json.loads(line))\n",
    "\n",
    "data.remove(9000)\n",
    "data.remove(1000)\n",
    "\n",
    "df = pd.DataFrame(data)\n",
    "\n",
    "df['anonymous'] = df['anonymous'].map({False: 0, True:1}).astype(int)\n",
    "cleaned_df=df[:9000]\n",
    "\n",
    "# to make reading the question_text cells easier, remove the maximum column width \n",
    "pd.set_option('display.max_colwidth', -1) "
   ]
  },
  {
   "cell_type": "code",
   "execution_count": 33,
   "metadata": {
    "collapsed": true
   },
   "outputs": [],
   "source": [
    "from plotnine import *"
   ]
  },
  {
   "cell_type": "markdown",
   "metadata": {},
   "source": [
    "---"
   ]
  },
  {
   "cell_type": "markdown",
   "metadata": {},
   "source": [
    "## Missing `context_topic` "
   ]
  },
  {
   "cell_type": "markdown",
   "metadata": {},
   "source": [
    "At Quora, `context_topic` has been depreciated since 2015. It used to be the primary topic assigned to every new question. And this topic tag was not visible to viewers, so they didn't have a way to filter it out (**For this reason, I expect context_topic_followers to not contribute to view count.**)."
   ]
  },
  {
   "cell_type": "markdown",
   "metadata": {},
   "source": [
    "Those with missing `context_topic`, which is the primary topic of the question. Although, as per the prompt, every question's `context_topic` json blob is said to be included in the topics array of each question, it is not. Let's investigate those with missing primary topics and try to derive some insight. "
   ]
  },
  {
   "cell_type": "code",
   "execution_count": 100,
   "metadata": {},
   "outputs": [
    {
     "data": {
      "text/html": [
       "<div>\n",
       "<style>\n",
       "    .dataframe thead tr:only-child th {\n",
       "        text-align: right;\n",
       "    }\n",
       "\n",
       "    .dataframe thead th {\n",
       "        text-align: left;\n",
       "    }\n",
       "\n",
       "    .dataframe tbody tr th {\n",
       "        vertical-align: top;\n",
       "    }\n",
       "</style>\n",
       "<table border=\"1\" class=\"dataframe\">\n",
       "  <thead>\n",
       "    <tr style=\"text-align: right;\">\n",
       "      <th></th>\n",
       "      <th>question_text</th>\n",
       "      <th>topics</th>\n",
       "      <th>context_topic</th>\n",
       "    </tr>\n",
       "  </thead>\n",
       "  <tbody>\n",
       "    <tr>\n",
       "      <th>0</th>\n",
       "      <td>What are some movies with mind boggling twists in it?</td>\n",
       "      <td>[{'followers': 500022, 'name': 'Movies'}]</td>\n",
       "      <td>{'followers': 500022, 'name': 'Movies'}</td>\n",
       "    </tr>\n",
       "    <tr>\n",
       "      <th>1</th>\n",
       "      <td>How do you prepare a 10 year old for International Mathematical Olympiad?</td>\n",
       "      <td>[{'followers': 179, 'name': 'International Mathematical Olympiad (IMO)'}]</td>\n",
       "      <td>{'followers': 179, 'name': 'International Mathematical Olympiad (IMO)'}</td>\n",
       "    </tr>\n",
       "    <tr>\n",
       "      <th>2</th>\n",
       "      <td>Why do bats sleep upside down?</td>\n",
       "      <td>[{'followers': 614223, 'name': 'Science'}]</td>\n",
       "      <td>{'followers': 614223, 'name': 'Science'}</td>\n",
       "    </tr>\n",
       "    <tr>\n",
       "      <th>3</th>\n",
       "      <td>Tell me everything about the Leidenfrost effect poetically?</td>\n",
       "      <td>[{'followers': 614223, 'name': 'Science'}, {'followers': 28196, 'name': 'Poetry'}, {'followers': 7310, 'name': 'Survey Questions'}, {'followers': 100919, 'name': 'Life'}, {'followers': 278715, 'name': 'Literature'}]</td>\n",
       "      <td>{'followers': 614223, 'name': 'Science'}</td>\n",
       "    </tr>\n",
       "    <tr>\n",
       "      <th>4</th>\n",
       "      <td>Is the Nexus 10 any good despite the dual core processor?</td>\n",
       "      <td>[{'followers': 1536, 'name': 'Android Tablets'}]</td>\n",
       "      <td>{'followers': 1536, 'name': 'Android Tablets'}</td>\n",
       "    </tr>\n",
       "  </tbody>\n",
       "</table>\n",
       "</div>"
      ],
      "text/plain": [
       "                                                               question_text  \\\n",
       "0  What are some movies with mind boggling twists in it?                       \n",
       "1  How do you prepare a 10 year old for International Mathematical Olympiad?   \n",
       "2  Why do bats sleep upside down?                                              \n",
       "3  Tell me everything about the Leidenfrost effect poetically?                 \n",
       "4  Is the Nexus 10 any good despite the dual core processor?                   \n",
       "\n",
       "                                                                                                                                                                                                                    topics  \\\n",
       "0  [{'followers': 500022, 'name': 'Movies'}]                                                                                                                                                                                 \n",
       "1  [{'followers': 179, 'name': 'International Mathematical Olympiad (IMO)'}]                                                                                                                                                 \n",
       "2  [{'followers': 614223, 'name': 'Science'}]                                                                                                                                                                                \n",
       "3  [{'followers': 614223, 'name': 'Science'}, {'followers': 28196, 'name': 'Poetry'}, {'followers': 7310, 'name': 'Survey Questions'}, {'followers': 100919, 'name': 'Life'}, {'followers': 278715, 'name': 'Literature'}]   \n",
       "4  [{'followers': 1536, 'name': 'Android Tablets'}]                                                                                                                                                                          \n",
       "\n",
       "                                                             context_topic  \n",
       "0  {'followers': 500022, 'name': 'Movies'}                                  \n",
       "1  {'followers': 179, 'name': 'International Mathematical Olympiad (IMO)'}  \n",
       "2  {'followers': 614223, 'name': 'Science'}                                 \n",
       "3  {'followers': 614223, 'name': 'Science'}                                 \n",
       "4  {'followers': 1536, 'name': 'Android Tablets'}                           "
      ]
     },
     "execution_count": 100,
     "metadata": {},
     "output_type": "execute_result"
    }
   ],
   "source": [
    "df[['question_text', 'topics', 'context_topic']].head()"
   ]
  },
  {
   "cell_type": "markdown",
   "metadata": {},
   "source": [
    "\n",
    "But we want to see the mean of `cleaned_df.__ans__` with the `ctm_w_ans` rows removed. So, let's make a column of a boolean feature of whether `context_topic` is missing or not and do an `np.mean` pivot table."
   ]
  },
  {
   "cell_type": "code",
   "execution_count": 35,
   "metadata": {
    "collapsed": true
   },
   "outputs": [],
   "source": [
    "# make a copy of cleaned_df\n",
    "data_df = cleaned_df.copy()"
   ]
  },
  {
   "cell_type": "code",
   "execution_count": 36,
   "metadata": {
    "collapsed": true
   },
   "outputs": [],
   "source": [
    "# create the column\n",
    "data_df['context_present'] = data_df['context_topic'].apply(lambda x: 0 if x==None else 1)"
   ]
  },
  {
   "cell_type": "markdown",
   "metadata": {},
   "source": [
    "Let's see what happens if we create a column out of the product of `num_answers` and `context_present`."
   ]
  },
  {
   "cell_type": "code",
   "execution_count": 37,
   "metadata": {
    "collapsed": true
   },
   "outputs": [],
   "source": [
    "test = data_df['context_present'] * data_df['num_answers']"
   ]
  },
  {
   "cell_type": "code",
   "execution_count": 38,
   "metadata": {
    "collapsed": true
   },
   "outputs": [],
   "source": [
    "context_xnum = pd.DataFrame(test, columns=['context_xnum'])"
   ]
  },
  {
   "cell_type": "code",
   "execution_count": 39,
   "metadata": {},
   "outputs": [
    {
     "data": {
      "text/plain": [
       "0.36215451128683945"
      ]
     },
     "execution_count": 39,
     "metadata": {},
     "output_type": "execute_result"
    }
   ],
   "source": [
    "test.corr(data_df.__ans__)"
   ]
  },
  {
   "cell_type": "markdown",
   "metadata": {},
   "source": [
    "#### New Feature: Product of `num_answers` and `context_present`"
   ]
  },
  {
   "cell_type": "markdown",
   "metadata": {},
   "source": [
    "We see a moderate correlation with coefficient of `0.362` between the product `context_xnum` and `__ans__`. "
   ]
  },
  {
   "cell_type": "code",
   "execution_count": 40,
   "metadata": {},
   "outputs": [
    {
     "data": {
      "image/png": "[encoded data removed]",
      "text/plain": [
       "<matplotlib.figure.Figure at 0x7f1f535d7898>"
      ]
     },
     "metadata": {},
     "output_type": "display_data"
    },
    {
     "data": {
      "text/plain": [
       "<ggplot: (8735782513405)>"
      ]
     },
     "execution_count": 40,
     "metadata": {},
     "output_type": "execute_result"
    }
   ],
   "source": [
    "(ggplot(pd.concat([data_df, context_xnum], axis=1), aes(x='context_xnum', y='__ans__')) + geom_point() + geom_smooth(method='lm') + theme_bw())"
   ]
  },
  {
   "cell_type": "code",
   "execution_count": 41,
   "metadata": {},
   "outputs": [
    {
     "data": {
      "image/png": "[encoded data removed]",
      "text/plain": [
       "<matplotlib.figure.Figure at 0x7f1f58779668>"
      ]
     },
     "metadata": {},
     "output_type": "display_data"
    },
    {
     "data": {
      "text/plain": [
       "<ggplot: (8735782384420)>"
      ]
     },
     "execution_count": 41,
     "metadata": {},
     "output_type": "execute_result"
    }
   ],
   "source": [
    "(ggplot(pd.concat([data_df, context_xnum], axis=1), aes(x='context_xnum', y='__ans__', color='factor(anonymous)')) + \n",
    " geom_point() + \n",
    " stat_smooth( method='lm') + facet_wrap('~anonymous'))"
   ]
  },
  {
   "cell_type": "markdown",
   "metadata": {},
   "source": [
    "**Surprisingly, those missing a context topic have a higher `__ans__` than those that do.** You would imagine the opposite assuming those missing a primary topic would be ones that are ignored or those that didn't garner enough attention. But quite the opposite seems to be true. "
   ]
  },
  {
   "cell_type": "code",
   "execution_count": 99,
   "metadata": {
    "scrolled": true
   },
   "outputs": [
    {
     "data": {
      "text/html": [
       "<div>\n",
       "<style>\n",
       "    .dataframe thead tr:only-child th {\n",
       "        text-align: right;\n",
       "    }\n",
       "\n",
       "    .dataframe thead th {\n",
       "        text-align: left;\n",
       "    }\n",
       "\n",
       "    .dataframe tbody tr th {\n",
       "        vertical-align: top;\n",
       "    }\n",
       "</style>\n",
       "<table border=\"1\" class=\"dataframe\">\n",
       "  <thead>\n",
       "    <tr style=\"text-align: right;\">\n",
       "      <th></th>\n",
       "      <th>__ans__</th>\n",
       "      <th>anonymous</th>\n",
       "      <th>context_topic</th>\n",
       "      <th>num_answers</th>\n",
       "      <th>promoted_to</th>\n",
       "      <th>question_key</th>\n",
       "      <th>question_text</th>\n",
       "      <th>topics</th>\n",
       "      <th>context_present</th>\n",
       "      <th>len_question_text</th>\n",
       "      <th>qcontains_superlatives</th>\n",
       "      <th>qcontains_best_story</th>\n",
       "      <th>qcontains_best_liner</th>\n",
       "    </tr>\n",
       "  </thead>\n",
       "  <tbody>\n",
       "    <tr>\n",
       "      <th>370</th>\n",
       "      <td>21.000000</td>\n",
       "      <td>0</td>\n",
       "      <td>None</td>\n",
       "      <td>0</td>\n",
       "      <td>0</td>\n",
       "      <td>AAEAAKuJkrLmqddpbRz8YB2hgNCAw/leTqxeX0R4kISOJ4ac</td>\n",
       "      <td>Is it possible to hurt your friendship with someone by introducing them to someone else who they later have a fallout with?</td>\n",
       "      <td>[]</td>\n",
       "      <td>0</td>\n",
       "      <td>123</td>\n",
       "      <td>0</td>\n",
       "      <td>0</td>\n",
       "      <td>0</td>\n",
       "    </tr>\n",
       "    <tr>\n",
       "      <th>462</th>\n",
       "      <td>4.434483</td>\n",
       "      <td>0</td>\n",
       "      <td>None</td>\n",
       "      <td>2</td>\n",
       "      <td>0</td>\n",
       "      <td>AAEAAGhe4/URuDxoKUFg6o1mGf8x37Fz8vl+3VS7XhKTJL3n</td>\n",
       "      <td>What are few things which Indians don't know about Republic day?</td>\n",
       "      <td>[]</td>\n",
       "      <td>0</td>\n",
       "      <td>64</td>\n",
       "      <td>0</td>\n",
       "      <td>0</td>\n",
       "      <td>0</td>\n",
       "    </tr>\n",
       "    <tr>\n",
       "      <th>492</th>\n",
       "      <td>29.000000</td>\n",
       "      <td>1</td>\n",
       "      <td>None</td>\n",
       "      <td>1</td>\n",
       "      <td>0</td>\n",
       "      <td>AAEAAHSYjMZ4m48TuQsWj1iY3W8tVuGiknpw9alNcVFKJG3J</td>\n",
       "      <td>What are the most stupid HR questions?</td>\n",
       "      <td>[{'followers': 1689, 'name': 'Netaji Subhas Institute of Technology'}]</td>\n",
       "      <td>0</td>\n",
       "      <td>38</td>\n",
       "      <td>0</td>\n",
       "      <td>0</td>\n",
       "      <td>0</td>\n",
       "    </tr>\n",
       "  </tbody>\n",
       "</table>\n",
       "</div>"
      ],
      "text/plain": [
       "       __ans__  anonymous context_topic  num_answers  promoted_to  \\\n",
       "370  21.000000  0          None          0            0             \n",
       "462  4.434483   0          None          2            0             \n",
       "492  29.000000  1          None          1            0             \n",
       "\n",
       "                                         question_key  \\\n",
       "370  AAEAAKuJkrLmqddpbRz8YB2hgNCAw/leTqxeX0R4kISOJ4ac   \n",
       "462  AAEAAGhe4/URuDxoKUFg6o1mGf8x37Fz8vl+3VS7XhKTJL3n   \n",
       "492  AAEAAHSYjMZ4m48TuQsWj1iY3W8tVuGiknpw9alNcVFKJG3J   \n",
       "\n",
       "                                                                                                                   question_text  \\\n",
       "370  Is it possible to hurt your friendship with someone by introducing them to someone else who they later have a fallout with?   \n",
       "462  What are few things which Indians don't know about Republic day?                                                              \n",
       "492  What are the most stupid HR questions?                                                                                        \n",
       "\n",
       "                                                                     topics  \\\n",
       "370  []                                                                       \n",
       "462  []                                                                       \n",
       "492  [{'followers': 1689, 'name': 'Netaji Subhas Institute of Technology'}]   \n",
       "\n",
       "     context_present  len_question_text  qcontains_superlatives  \\\n",
       "370  0                123                0                        \n",
       "462  0                64                 0                        \n",
       "492  0                38                 0                        \n",
       "\n",
       "     qcontains_best_story  qcontains_best_liner  \n",
       "370  0                     0                     \n",
       "462  0                     0                     \n",
       "492  0                     0                     "
      ]
     },
     "execution_count": 99,
     "metadata": {},
     "output_type": "execute_result"
    }
   ],
   "source": [
    "data_df[data_df.context_present == 0][13:16]"
   ]
  },
  {
   "cell_type": "markdown",
   "metadata": {},
   "source": [
    "### How about `topics` column?"
   ]
  },
  {
   "cell_type": "markdown",
   "metadata": {},
   "source": [
    "Another insight from the missing context_topic dataframe is that there are rows with missing `topics`. These went undetected last time because they are empty arrays and not `NaN` or missing values. "
   ]
  },
  {
   "cell_type": "code",
   "execution_count": 43,
   "metadata": {
    "collapsed": true
   },
   "outputs": [],
   "source": [
    "topics_present = data_df['topics'].apply(lambda x: 0 if len(x) == 0 else 1)"
   ]
  },
  {
   "cell_type": "code",
   "execution_count": 44,
   "metadata": {},
   "outputs": [
    {
     "data": {
      "text/plain": [
       "1    8979\n",
       "0    21  \n",
       "Name: topics, dtype: int64"
      ]
     },
     "execution_count": 44,
     "metadata": {},
     "output_type": "execute_result"
    }
   ],
   "source": [
    "topics_present.value_counts()"
   ]
  },
  {
   "cell_type": "code",
   "execution_count": 45,
   "metadata": {},
   "outputs": [
    {
     "data": {
      "text/plain": [
       "0.0026802819885979167"
      ]
     },
     "execution_count": 45,
     "metadata": {},
     "output_type": "execute_result"
    }
   ],
   "source": [
    "topics_present.corr(data_df['__ans__'])"
   ]
  },
  {
   "cell_type": "code",
   "execution_count": 46,
   "metadata": {
    "collapsed": true
   },
   "outputs": [],
   "source": [
    "test_1 = topics_present * test # 0 if topics aren't present or num_answers = 0 or context_topic not present."
   ]
  },
  {
   "cell_type": "code",
   "execution_count": 47,
   "metadata": {},
   "outputs": [
    {
     "data": {
      "text/plain": [
       "0.36215451128683945"
      ]
     },
     "execution_count": 47,
     "metadata": {},
     "output_type": "execute_result"
    }
   ],
   "source": [
    "test_1.corr(data_df['__ans__'])"
   ]
  },
  {
   "cell_type": "markdown",
   "metadata": {},
   "source": [
    "The correlation hasn't changed, so at this point, we have nothing to do with the empty topics rows."
   ]
  },
  {
   "cell_type": "markdown",
   "metadata": {},
   "source": [
    "---"
   ]
  },
  {
   "cell_type": "code",
   "execution_count": 48,
   "metadata": {},
   "outputs": [
    {
     "data": {
      "image/png": "[encoded data removed]",
      "text/plain": [
       "<matplotlib.figure.Figure at 0x7f1f5349f9e8>"
      ]
     },
     "metadata": {},
     "output_type": "display_data"
    },
    {
     "data": {
      "text/plain": [
       "<ggplot: (8735788365309)>"
      ]
     },
     "execution_count": 48,
     "metadata": {},
     "output_type": "execute_result"
    }
   ],
   "source": [
    "# Short questionsb\n",
    "data_df['len_question_text'] = data_df.question_text.apply(lambda x: len(x))\n",
    "\n",
    "# plot\n",
    "(ggplot(data_df, aes(x='len_question_text')) + geom_density() + theme_bw())"
   ]
  },
  {
   "cell_type": "markdown",
   "metadata": {},
   "source": [
    "Let's look at questions with less than 10 characters. "
   ]
  },
  {
   "cell_type": "code",
   "execution_count": 49,
   "metadata": {},
   "outputs": [
    {
     "data": {
      "text/html": [
       "<div>\n",
       "<style>\n",
       "    .dataframe thead tr:only-child th {\n",
       "        text-align: right;\n",
       "    }\n",
       "\n",
       "    .dataframe thead th {\n",
       "        text-align: left;\n",
       "    }\n",
       "\n",
       "    .dataframe tbody tr th {\n",
       "        vertical-align: top;\n",
       "    }\n",
       "</style>\n",
       "<table border=\"1\" class=\"dataframe\">\n",
       "  <thead>\n",
       "    <tr style=\"text-align: right;\">\n",
       "      <th></th>\n",
       "      <th>__ans__</th>\n",
       "      <th>question_text</th>\n",
       "      <th>len_question_text</th>\n",
       "      <th>num_answers</th>\n",
       "    </tr>\n",
       "  </thead>\n",
       "  <tbody>\n",
       "    <tr>\n",
       "      <th>1931</th>\n",
       "      <td>62.027027</td>\n",
       "      <td>Deleted</td>\n",
       "      <td>7</td>\n",
       "      <td>10</td>\n",
       "    </tr>\n",
       "    <tr>\n",
       "      <th>261</th>\n",
       "      <td>8.515152</td>\n",
       "      <td>Who are you?</td>\n",
       "      <td>12</td>\n",
       "      <td>7</td>\n",
       "    </tr>\n",
       "    <tr>\n",
       "      <th>2220</th>\n",
       "      <td>6.920354</td>\n",
       "      <td>What is 2 + 5?</td>\n",
       "      <td>14</td>\n",
       "      <td>9</td>\n",
       "    </tr>\n",
       "    <tr>\n",
       "      <th>6599</th>\n",
       "      <td>5.368421</td>\n",
       "      <td>Do</td>\n",
       "      <td>2</td>\n",
       "      <td>0</td>\n",
       "    </tr>\n",
       "    <tr>\n",
       "      <th>6208</th>\n",
       "      <td>4.765957</td>\n",
       "      <td>Deleted</td>\n",
       "      <td>7</td>\n",
       "      <td>0</td>\n",
       "    </tr>\n",
       "    <tr>\n",
       "      <th>179</th>\n",
       "      <td>4.179487</td>\n",
       "      <td>What is fiber?</td>\n",
       "      <td>14</td>\n",
       "      <td>2</td>\n",
       "    </tr>\n",
       "    <tr>\n",
       "      <th>5223</th>\n",
       "      <td>3.595238</td>\n",
       "      <td>DELETED</td>\n",
       "      <td>7</td>\n",
       "      <td>0</td>\n",
       "    </tr>\n",
       "    <tr>\n",
       "      <th>1208</th>\n",
       "      <td>2.611111</td>\n",
       "      <td>CANCELLED</td>\n",
       "      <td>9</td>\n",
       "      <td>0</td>\n",
       "    </tr>\n",
       "    <tr>\n",
       "      <th>3080</th>\n",
       "      <td>2.216216</td>\n",
       "      <td>h</td>\n",
       "      <td>1</td>\n",
       "      <td>1</td>\n",
       "    </tr>\n",
       "    <tr>\n",
       "      <th>7510</th>\n",
       "      <td>2.211268</td>\n",
       "      <td>@roous4393</td>\n",
       "      <td>10</td>\n",
       "      <td>0</td>\n",
       "    </tr>\n",
       "    <tr>\n",
       "      <th>2705</th>\n",
       "      <td>2.155556</td>\n",
       "      <td>What is a PhD?</td>\n",
       "      <td>14</td>\n",
       "      <td>1</td>\n",
       "    </tr>\n",
       "    <tr>\n",
       "      <th>2011</th>\n",
       "      <td>1.928571</td>\n",
       "      <td>I</td>\n",
       "      <td>1</td>\n",
       "      <td>0</td>\n",
       "    </tr>\n",
       "    <tr>\n",
       "      <th>5168</th>\n",
       "      <td>1.500000</td>\n",
       "      <td>What is #haun?</td>\n",
       "      <td>14</td>\n",
       "      <td>1</td>\n",
       "    </tr>\n",
       "    <tr>\n",
       "      <th>5051</th>\n",
       "      <td>1.456311</td>\n",
       "      <td>]</td>\n",
       "      <td>1</td>\n",
       "      <td>0</td>\n",
       "    </tr>\n",
       "    <tr>\n",
       "      <th>4585</th>\n",
       "      <td>1.347107</td>\n",
       "      <td>Best condom?</td>\n",
       "      <td>12</td>\n",
       "      <td>3</td>\n",
       "    </tr>\n",
       "    <tr>\n",
       "      <th>1825</th>\n",
       "      <td>0.909910</td>\n",
       "      <td>Mouth</td>\n",
       "      <td>5</td>\n",
       "      <td>0</td>\n",
       "    </tr>\n",
       "    <tr>\n",
       "      <th>4928</th>\n",
       "      <td>0.778761</td>\n",
       "      <td>&lt; Duplicate &gt;</td>\n",
       "      <td>13</td>\n",
       "      <td>0</td>\n",
       "    </tr>\n",
       "    <tr>\n",
       "      <th>248</th>\n",
       "      <td>0.701923</td>\n",
       "      <td>.</td>\n",
       "      <td>1</td>\n",
       "      <td>2</td>\n",
       "    </tr>\n",
       "    <tr>\n",
       "      <th>6506</th>\n",
       "      <td>0.663717</td>\n",
       "      <td>?</td>\n",
       "      <td>1</td>\n",
       "      <td>1</td>\n",
       "    </tr>\n",
       "    <tr>\n",
       "      <th>4283</th>\n",
       "      <td>0.630769</td>\n",
       "      <td>What is aevo?</td>\n",
       "      <td>13</td>\n",
       "      <td>0</td>\n",
       "    </tr>\n",
       "    <tr>\n",
       "      <th>2888</th>\n",
       "      <td>0.619718</td>\n",
       "      <td>DELETED</td>\n",
       "      <td>7</td>\n",
       "      <td>1</td>\n",
       "    </tr>\n",
       "    <tr>\n",
       "      <th>6209</th>\n",
       "      <td>0.503906</td>\n",
       "      <td>void</td>\n",
       "      <td>4</td>\n",
       "      <td>0</td>\n",
       "    </tr>\n",
       "    <tr>\n",
       "      <th>8201</th>\n",
       "      <td>0.480836</td>\n",
       "      <td>What is UML?</td>\n",
       "      <td>12</td>\n",
       "      <td>0</td>\n",
       "    </tr>\n",
       "    <tr>\n",
       "      <th>5930</th>\n",
       "      <td>0.443709</td>\n",
       "      <td>Do birds fart?</td>\n",
       "      <td>14</td>\n",
       "      <td>2</td>\n",
       "    </tr>\n",
       "    <tr>\n",
       "      <th>7292</th>\n",
       "      <td>0.340426</td>\n",
       "      <td>Deleted</td>\n",
       "      <td>7</td>\n",
       "      <td>0</td>\n",
       "    </tr>\n",
       "    <tr>\n",
       "      <th>2900</th>\n",
       "      <td>0.272727</td>\n",
       "      <td>deleted</td>\n",
       "      <td>7</td>\n",
       "      <td>0</td>\n",
       "    </tr>\n",
       "    <tr>\n",
       "      <th>2432</th>\n",
       "      <td>0.253968</td>\n",
       "      <td>Flan recipe?</td>\n",
       "      <td>12</td>\n",
       "      <td>0</td>\n",
       "    </tr>\n",
       "    <tr>\n",
       "      <th>1704</th>\n",
       "      <td>0.120548</td>\n",
       "      <td>deleted</td>\n",
       "      <td>7</td>\n",
       "      <td>0</td>\n",
       "    </tr>\n",
       "    <tr>\n",
       "      <th>6509</th>\n",
       "      <td>0.081081</td>\n",
       "      <td>deleted</td>\n",
       "      <td>7</td>\n",
       "      <td>0</td>\n",
       "    </tr>\n",
       "    <tr>\n",
       "      <th>7644</th>\n",
       "      <td>0.062500</td>\n",
       "      <td>?</td>\n",
       "      <td>1</td>\n",
       "      <td>0</td>\n",
       "    </tr>\n",
       "    <tr>\n",
       "      <th>1786</th>\n",
       "      <td>0.041667</td>\n",
       "      <td>Where is iran</td>\n",
       "      <td>13</td>\n",
       "      <td>0</td>\n",
       "    </tr>\n",
       "    <tr>\n",
       "      <th>8530</th>\n",
       "      <td>0.039286</td>\n",
       "      <td>Hhhff</td>\n",
       "      <td>5</td>\n",
       "      <td>0</td>\n",
       "    </tr>\n",
       "    <tr>\n",
       "      <th>3448</th>\n",
       "      <td>0.034188</td>\n",
       "      <td>Undertaker?</td>\n",
       "      <td>11</td>\n",
       "      <td>0</td>\n",
       "    </tr>\n",
       "    <tr>\n",
       "      <th>7549</th>\n",
       "      <td>0.019920</td>\n",
       "      <td>DELETED</td>\n",
       "      <td>7</td>\n",
       "      <td>0</td>\n",
       "    </tr>\n",
       "    <tr>\n",
       "      <th>3533</th>\n",
       "      <td>0.019178</td>\n",
       "      <td>deleted</td>\n",
       "      <td>7</td>\n",
       "      <td>0</td>\n",
       "    </tr>\n",
       "    <tr>\n",
       "      <th>6114</th>\n",
       "      <td>0.000000</td>\n",
       "      <td>DELETED</td>\n",
       "      <td>7</td>\n",
       "      <td>0</td>\n",
       "    </tr>\n",
       "  </tbody>\n",
       "</table>\n",
       "</div>"
      ],
      "text/plain": [
       "        __ans__   question_text  len_question_text  num_answers\n",
       "1931  62.027027  Deleted         7                  10         \n",
       "261   8.515152   Who are you?    12                 7          \n",
       "2220  6.920354   What is 2 + 5?  14                 9          \n",
       "6599  5.368421   Do              2                  0          \n",
       "6208  4.765957   Deleted         7                  0          \n",
       "179   4.179487   What is fiber?  14                 2          \n",
       "5223  3.595238   DELETED         7                  0          \n",
       "1208  2.611111   CANCELLED       9                  0          \n",
       "3080  2.216216   h               1                  1          \n",
       "7510  2.211268   @roous4393      10                 0          \n",
       "2705  2.155556   What is a PhD?  14                 1          \n",
       "2011  1.928571   I               1                  0          \n",
       "5168  1.500000   What is #haun?  14                 1          \n",
       "5051  1.456311   ]               1                  0          \n",
       "4585  1.347107   Best condom?    12                 3          \n",
       "1825  0.909910   Mouth           5                  0          \n",
       "4928  0.778761   < Duplicate >   13                 0          \n",
       "248   0.701923   .               1                  2          \n",
       "6506  0.663717   ?               1                  1          \n",
       "4283  0.630769   What is aevo?   13                 0          \n",
       "2888  0.619718   DELETED         7                  1          \n",
       "6209  0.503906   void            4                  0          \n",
       "8201  0.480836   What is UML?    12                 0          \n",
       "5930  0.443709   Do birds fart?  14                 2          \n",
       "7292  0.340426   Deleted         7                  0          \n",
       "2900  0.272727   deleted         7                  0          \n",
       "2432  0.253968   Flan recipe?    12                 0          \n",
       "1704  0.120548   deleted         7                  0          \n",
       "6509  0.081081   deleted         7                  0          \n",
       "7644  0.062500   ?               1                  0          \n",
       "1786  0.041667   Where is iran   13                 0          \n",
       "8530  0.039286   Hhhff           5                  0          \n",
       "3448  0.034188   Undertaker?     11                 0          \n",
       "7549  0.019920   DELETED         7                  0          \n",
       "3533  0.019178   deleted         7                  0          \n",
       "6114  0.000000   DELETED         7                  0          "
      ]
     },
     "execution_count": 49,
     "metadata": {},
     "output_type": "execute_result"
    }
   ],
   "source": [
    "data_df[(data_df.len_question_text < 15)][['__ans__', 'question_text', 'len_question_text', 'num_answers']].sort_values(by=\"__ans__\", ascending=False)"
   ]
  },
  {
   "cell_type": "code",
   "execution_count": 149,
   "metadata": {
    "collapsed": true
   },
   "outputs": [],
   "source": [
    "#gives the correlation of `num_answers` to number of characters less than int_\n",
    "def NumAnsCorrNumChar(int_): \n",
    "    question_shorter_than_int_=data_df['len_question_text'].apply(lambda x: 1 if x <= int_ else 0)\n",
    "    return question_shorter_than_int_.corr(data_df['num_answers'])\n",
    "\n",
    "#gives the correlation of `__ans__` to the product of num_answers and the ...\n",
    "# ... boolean column of number of characters less than int_\n",
    "def TargetCorrNumChar(int_): \n",
    "    question_shorter_than_int_=data_df['len_question_text'].apply(lambda x: 1 if x <= int_ else 0)\n",
    "    prod = question_shorter_than_int_ * data_df['num_answers']\n",
    "    return prod.corr(data_df['__ans__'])"
   ]
  },
  {
   "cell_type": "code",
   "execution_count": 159,
   "metadata": {
    "collapsed": true
   },
   "outputs": [],
   "source": [
    "some_list = []\n",
    "for i in data_df['len_question_text'].values:\n",
    "    some_list.append(NumAnsCorrNumChar(i))"
   ]
  },
  {
   "cell_type": "code",
   "execution_count": 160,
   "metadata": {},
   "outputs": [
    {
     "data": {
      "text/plain": [
       "(-0.019433195945123764, 0.032976047487706384)"
      ]
     },
     "execution_count": 160,
     "metadata": {},
     "output_type": "execute_result"
    }
   ],
   "source": [
    "min(some_list), max(some_list) #7 and 15 characters "
   ]
  },
  {
   "cell_type": "markdown",
   "metadata": {},
   "source": [
    "This is useless, did it out of curiousity. "
   ]
  },
  {
   "cell_type": "markdown",
   "metadata": {},
   "source": [
    "**How about the correlation between the number of characters and `__ans__`?**"
   ]
  },
  {
   "cell_type": "code",
   "execution_count": 151,
   "metadata": {
    "collapsed": true
   },
   "outputs": [],
   "source": [
    "some_list_1 = []\n",
    "for i in data_df['len_question_text'].values:\n",
    "    some_list_1.append(TargetCorrNumChar(i))"
   ]
  },
  {
   "cell_type": "code",
   "execution_count": 152,
   "metadata": {},
   "outputs": [
    {
     "data": {
      "text/plain": [
       "(-0.003043560197922728, 0.3820463704019823)"
      ]
     },
     "execution_count": 152,
     "metadata": {},
     "output_type": "execute_result"
    }
   ],
   "source": [
    "min(some_list_1), max(some_list_1) #7 and 15 characters "
   ]
  },
  {
   "cell_type": "code",
   "execution_count": 153,
   "metadata": {},
   "outputs": [
    {
     "data": {
      "text/plain": [
       "141"
      ]
     },
     "execution_count": 153,
     "metadata": {},
     "output_type": "execute_result"
    }
   ],
   "source": [
    "some_list_1.index(0.3820463704019823) #the index of the max"
   ]
  },
  {
   "cell_type": "code",
   "execution_count": 155,
   "metadata": {},
   "outputs": [
    {
     "data": {
      "text/plain": [
       "182"
      ]
     },
     "execution_count": 155,
     "metadata": {},
     "output_type": "execute_result"
    }
   ],
   "source": [
    "data_df.iloc[141]['len_question_text'] # the number of characters "
   ]
  },
  {
   "cell_type": "markdown",
   "metadata": {},
   "source": [
    "* The feature deciding whether a question is less than 182 characters long (valued 1) or shorter has a moderate correlation with the target column `__ans__`. "
   ]
  },
  {
   "cell_type": "markdown",
   "metadata": {},
   "source": [
    "---"
   ]
  },
  {
   "cell_type": "markdown",
   "metadata": {},
   "source": [
    "Observe that most of the questions in the bottom of the list have no question marks; so, let's explore that."
   ]
  },
  {
   "cell_type": "code",
   "execution_count": 56,
   "metadata": {},
   "outputs": [
    {
     "data": {
      "text/html": [
       "<div>\n",
       "<style>\n",
       "    .dataframe thead tr:only-child th {\n",
       "        text-align: right;\n",
       "    }\n",
       "\n",
       "    .dataframe thead th {\n",
       "        text-align: left;\n",
       "    }\n",
       "\n",
       "    .dataframe tbody tr th {\n",
       "        vertical-align: top;\n",
       "    }\n",
       "</style>\n",
       "<table border=\"1\" class=\"dataframe\">\n",
       "  <thead>\n",
       "    <tr style=\"text-align: right;\">\n",
       "      <th></th>\n",
       "      <th>__ans__</th>\n",
       "      <th>question_text</th>\n",
       "      <th>num_answers</th>\n",
       "    </tr>\n",
       "  </thead>\n",
       "  <tbody>\n",
       "    <tr>\n",
       "      <th>1931</th>\n",
       "      <td>62.027027</td>\n",
       "      <td>Deleted</td>\n",
       "      <td>10</td>\n",
       "    </tr>\n",
       "    <tr>\n",
       "      <th>4463</th>\n",
       "      <td>8.348837</td>\n",
       "      <td>IOS in-App purchases for timed in-game lives</td>\n",
       "      <td>1</td>\n",
       "    </tr>\n",
       "    <tr>\n",
       "      <th>4329</th>\n",
       "      <td>7.837209</td>\n",
       "      <td>I have developed a 40$ product that transforms an existing power outlet and switches in home into Smartphone controlled smart switches</td>\n",
       "      <td>4</td>\n",
       "    </tr>\n",
       "    <tr>\n",
       "      <th>3348</th>\n",
       "      <td>6.245902</td>\n",
       "      <td>Show that the conditions for spontaneity of a process occurring in a closed system involving only expansion work : change of Gibbs free energy at constant temperature and pressure is less than zero.</td>\n",
       "      <td>0</td>\n",
       "    </tr>\n",
       "    <tr>\n",
       "      <th>4550</th>\n",
       "      <td>6.166667</td>\n",
       "      <td>How to sync instagram with path</td>\n",
       "      <td>0</td>\n",
       "    </tr>\n",
       "  </tbody>\n",
       "</table>\n",
       "</div>"
      ],
      "text/plain": [
       "        __ans__  \\\n",
       "1931  62.027027   \n",
       "4463  8.348837    \n",
       "4329  7.837209    \n",
       "3348  6.245902    \n",
       "4550  6.166667    \n",
       "\n",
       "                                                                                                                                                                                               question_text  \\\n",
       "1931  Deleted                                                                                                                                                                                                  \n",
       "4463  IOS in-App purchases for timed in-game lives                                                                                                                                                             \n",
       "4329  I have developed a 40$ product that transforms an existing power outlet and switches in home into Smartphone controlled smart switches                                                                   \n",
       "3348  Show that the conditions for spontaneity of a process occurring in a closed system involving only expansion work : change of Gibbs free energy at constant temperature and pressure is less than zero.   \n",
       "4550  How to sync instagram with path                                                                                                                                                                          \n",
       "\n",
       "      num_answers  \n",
       "1931  10           \n",
       "4463  1            \n",
       "4329  4            \n",
       "3348  0            \n",
       "4550  0            "
      ]
     },
     "execution_count": 56,
     "metadata": {},
     "output_type": "execute_result"
    }
   ],
   "source": [
    "data_df[(~data_df.question_text.str.contains(\"[?]\"))][['__ans__', 'question_text', 'num_answers']].sort_values(by=\"__ans__\", ascending=False).head()"
   ]
  },
  {
   "cell_type": "code",
   "execution_count": 57,
   "metadata": {
    "collapsed": true
   },
   "outputs": [],
   "source": [
    "q_df = data_df.question_text.apply(lambda x: 1 if ( (any(~pd.Series(x).str.contains('[?]')))) else 0)"
   ]
  },
  {
   "cell_type": "code",
   "execution_count": 58,
   "metadata": {},
   "outputs": [
    {
     "data": {
      "text/plain": [
       "-0.013093447660023082"
      ]
     },
     "execution_count": 58,
     "metadata": {},
     "output_type": "execute_result"
    }
   ],
   "source": [
    "q_df.corr(data_df.__ans__)"
   ]
  },
  {
   "cell_type": "markdown",
   "metadata": {},
   "source": [
    "Nothing significant!"
   ]
  },
  {
   "cell_type": "markdown",
   "metadata": {},
   "source": [
    "## Correlation between `__ans__` and certain keywords"
   ]
  },
  {
   "cell_type": "markdown",
   "metadata": {},
   "source": [
    "Let me start by clarifying the title of this section. I want to investigate if the appearance of certain words in the `question_text` affect views (`__ans__` and technically the ratio views to age, but I will just call it views). Also, when I write \"the correlation of some word,\" I am referring to the correlation of `__ans__` to a boolean column corresponding to whether the question text in that row contains this word."
   ]
  },
  {
   "cell_type": "markdown",
   "metadata": {},
   "source": [
    "---"
   ]
  },
  {
   "cell_type": "markdown",
   "metadata": {},
   "source": [
    "#### Correlation Calculators for Keyword Combinations"
   ]
  },
  {
   "cell_type": "markdown",
   "metadata": {},
   "source": [
    "To make our lives easier, let's automate the process."
   ]
  },
  {
   "cell_type": "code",
   "execution_count": 59,
   "metadata": {},
   "outputs": [
    {
     "data": {
      "text/plain": [
       "(0.048178865447050856, 0.013902202526612993)"
      ]
     },
     "execution_count": 59,
     "metadata": {},
     "output_type": "execute_result"
    }
   ],
   "source": [
    "# Combination checker function `ccc=checkCorrComb`\n",
    "def CorrOR(str_):\n",
    "    split = str_.split(', ')\n",
    "    joined= '|'.join(split)\n",
    "    # create a pd series with boolean values \n",
    "    combined_df = data_df.question_text.apply(lambda x: 1 if any(pd.Series(x).str.contains(str(joined))) else 0)\n",
    "    return combined_df.corr(data_df.__ans__)\n",
    "\n",
    "def CorrAND(str_):\n",
    "    split = str_.split(', ')\n",
    "    # create a pd series with boolean values \n",
    "    combined_df = data_df.question_text.apply(lambda x: 1 if all(words in x for words in split) else 0)\n",
    "    return combined_df.corr(data_df.__ans__)\n",
    "\n",
    "#Since Quora has a huge userbase in India and Pakistan, let's start there\n",
    "CorrOR('Pakistan, Pakistani, India, Indian, IIT, Delhi, Modi'), CorrAND('India, Pakistan')"
   ]
  },
  {
   "cell_type": "code",
   "execution_count": 60,
   "metadata": {},
   "outputs": [
    {
     "data": {
      "text/plain": [
       "(0.048178865447050856, 0.013902202526612993)"
      ]
     },
     "execution_count": 60,
     "metadata": {},
     "output_type": "execute_result"
    }
   ],
   "source": [
    "combination_test_1 = data_df.question_text.apply(lambda x: 1 if any(pd.Series(x).str.contains('Pakistan|Pakistani|India|Indian|IIT|Delhi|Modi')) else 0)\n",
    "combination_test_2 = data_df.question_text.apply(lambda x: 1 if all(words in x for words in ['India', 'Pakistan']) else 0)\n",
    "combination_test_1.corr(data_df.__ans__), combination_test_2.corr(data_df.__ans__)"
   ]
  },
  {
   "cell_type": "markdown",
   "metadata": {},
   "source": [
    "Ok, the functions work well!"
   ]
  },
  {
   "cell_type": "markdown",
   "metadata": {},
   "source": [
    "---"
   ]
  },
  {
   "cell_type": "markdown",
   "metadata": {},
   "source": [
    "### Keywords: Superlative Adjectives"
   ]
  },
  {
   "cell_type": "markdown",
   "metadata": {},
   "source": [
    "Ok let's create another question_text filter."
   ]
  },
  {
   "cell_type": "code",
   "execution_count": 61,
   "metadata": {
    "collapsed": true
   },
   "outputs": [],
   "source": [
    "# Superlatives \n",
    "sup_list = ['angriest', 'worst', 'biggest', 'bitterest', 'blackest', 'blandest', 'bloodiest', 'bluest', 'boldest', 'bossiest', 'bravest', 'briefest', 'brightest', 'broadest', 'busiest', 'calmest', 'cheapest', 'chewiest', 'chubbiest', 'classiest', 'cleanest', 'clearest', 'cleverest', 'closest', 'cloudiest', 'clumsiest', 'coarsest', 'coldest', 'coolest', 'craziest', 'creamiest', 'creepiest', 'crispiest', 'cruellest', 'crunchiest', 'curliest', 'curviest', 'cutest', 'dampest', 'darkest', 'deadliest', 'deepest', 'densest', 'dirtiest', 'driest', 'dullest', 'dumbest', 'dustiest', 'earliest', 'easiest', 'faintest', 'fairest', 'fanciest', 'furthest/farthest', 'fastest', 'fattest', 'fewest', 'fiercest', 'filthiest', 'finest', 'firmest', 'fittest', 'flakiest', 'flattest', 'freshest', 'friendliest', 'fullest', 'funniest', 'gentlest', 'gloomiest', 'best', 'grandest', 'gravest', 'greasiest', 'greatest', 'greediest', 'grossest', 'guiltiest', 'hairiest', 'handiest', 'happiest', 'hardest', 'harshest', 'healthiest', 'heaviest', 'highest', 'hippest', 'hottest', 'humblest', 'hungriest', 'iciest', 'itchiest', 'juiciest', 'kindest', 'largest', 'latest', 'laziest', 'lightest', 'likeliest', 'littlest', 'liveliest', 'loneliest', 'longest', 'loudest', 'loveliest', 'lowest', 'maddest', 'meanest', 'messiest', 'mildest', 'moistest', 'narrowest', 'nastiest', 'naughtiest', 'nearest', 'neatest', 'neediest', 'newest', 'nicest', 'noisiest', 'oddest', 'oiliest', 'oldest/eldest', 'plainest', 'politest', 'poorest', 'prettiest', 'proudest', 'purest', 'quickest', 'quietest', 'rarest', 'rawest', 'richest', 'ripest', 'riskiest', 'roomiest', 'roughest', 'rudest', 'rustiest', 'saddest', 'safest', 'saltiest', 'sanest', 'scariest', 'shallowest', 'sharpest', 'shiniest', 'shortest', 'shyest', 'silliest', 'simplest', 'sincerest', 'skinniest', 'sleepiest', 'slimmest', 'slimiest', 'slowest', 'smallest', 'smartest', 'smelliest', 'smokiest', 'smoothest', 'softest', 'soonest', 'sorest', 'sorriest', 'sourest', 'spiciest', 'steepest', 'stingiest', 'strangest', 'strictest', 'strongest', 'sunniest', 'sweatiest', 'sweetest', 'tallest', 'tannest', 'tastiest', 'thickest', 'thinnest', 'thirstiest', 'tiniest', 'toughest', 'truest', 'ugliest', 'warmest', 'weakest', 'wealthiest', 'weirdest', 'wettest', 'widest', 'wildest', 'windiest', 'wisest', 'worldliest', 'worthiest', 'youngest']\n",
    "data_df['qcontains_superlatives'] = data_df.question_text.apply(lambda x: 1 if any(st in x for st in sup_list) else 0)"
   ]
  },
  {
   "cell_type": "code",
   "execution_count": 62,
   "metadata": {},
   "outputs": [
    {
     "data": {
      "text/plain": [
       "-0.001720050755521242"
      ]
     },
     "execution_count": 62,
     "metadata": {},
     "output_type": "execute_result"
    }
   ],
   "source": [
    "data_df['qcontains_superlatives'].corr(data_df['__ans__'])"
   ]
  },
  {
   "cell_type": "markdown",
   "metadata": {},
   "source": [
    "Ok, not as promising as I thought! Let's go through the list and look for the best one."
   ]
  },
  {
   "cell_type": "markdown",
   "metadata": {},
   "source": [
    "### Keywords: \"Best\" et al."
   ]
  },
  {
   "cell_type": "code",
   "execution_count": 66,
   "metadata": {},
   "outputs": [
    {
     "data": {
      "text/plain": [
       "0.017637761989366695"
      ]
     },
     "execution_count": 66,
     "metadata": {},
     "output_type": "execute_result"
    }
   ],
   "source": [
    "# questions containing best, most, or epic\n",
    "CorrOR('best, most, epic')"
   ]
  },
  {
   "cell_type": "markdown",
   "metadata": {},
   "source": [
    "Not as I expected. What if I multiply it by the number of answers?"
   ]
  },
  {
   "cell_type": "markdown",
   "metadata": {},
   "source": [
    "#### Feature Expander"
   ]
  },
  {
   "cell_type": "code",
   "execution_count": 67,
   "metadata": {
    "collapsed": true
   },
   "outputs": [],
   "source": [
    "# Calculates the correlation between [a boolean column of question texts containing `str_` multiplied by num_answers] and [num_answers]\n",
    "# eg. CorrORxNumAns('cat, dog, book, animals')\n",
    "def CorrORxNumAns(str_):\n",
    "    split = str_.split(', ')\n",
    "    joined= '|'.join(split)\n",
    "    combined_df = data_df.question_text.apply(lambda x: 1 if any(pd.Series(x).str.contains(str(joined))) else 0)\n",
    "    xnum_combined_df = combined_df * data_df['num_answers']\n",
    "    return xnum_combined_df.corr(data_df.__ans__)"
   ]
  },
  {
   "cell_type": "code",
   "execution_count": 68,
   "metadata": {},
   "outputs": [
    {
     "data": {
      "text/plain": [
       "0.26459143217330872"
      ]
     },
     "execution_count": 68,
     "metadata": {},
     "output_type": "execute_result"
    }
   ],
   "source": [
    "CorrORxNumAns('best, most, epic, university, stories')"
   ]
  },
  {
   "cell_type": "markdown",
   "metadata": {},
   "source": [
    "Let's check if it matters that the number of answers is greater than 1 (as opposed to just 0 or 1, for all with at least one answer). So lets do the following:"
   ]
  },
  {
   "cell_type": "code",
   "execution_count": 69,
   "metadata": {
    "collapsed": true
   },
   "outputs": [],
   "source": [
    "# make a class of questions with answers >= 1\n",
    "a=pd.DataFrame()\n",
    "a['num_answers_g0'] = data_df['num_answers'].apply(lambda x: 1 if x != 0 else 0)"
   ]
  },
  {
   "cell_type": "code",
   "execution_count": 70,
   "metadata": {},
   "outputs": [
    {
     "data": {
      "text/plain": [
       "0.086570497404718158"
      ]
     },
     "execution_count": 70,
     "metadata": {},
     "output_type": "execute_result"
    }
   ],
   "source": [
    "# multiply `qcontains_best` by the number of answers>=1\n",
    "a['qcontains_best'] = data_df.question_text.apply(lambda x: 1 if any(pd.Series(x).str.contains(str('best|most|epic|India|'))) else 0)\n",
    "b = a['qcontains_best'] * a['num_answers_g0']\n",
    "b.corr(data_df['__ans__'])"
   ]
  },
  {
   "cell_type": "markdown",
   "metadata": {},
   "source": [
    "So, it does matter that some questions have more number of answers than others. "
   ]
  },
  {
   "cell_type": "markdown",
   "metadata": {},
   "source": [
    "---"
   ]
  },
  {
   "cell_type": "markdown",
   "metadata": {},
   "source": [
    "### Exploring `num_answers`"
   ]
  },
  {
   "cell_type": "markdown",
   "metadata": {},
   "source": [
    "Let's begin with a simple historgram."
   ]
  },
  {
   "cell_type": "code",
   "execution_count": 71,
   "metadata": {},
   "outputs": [
    {
     "data": {
      "image/png": "[encoded data removed]",
      "text/plain": [
       "<matplotlib.figure.Figure at 0x7f1f58bb9e48>"
      ]
     },
     "metadata": {},
     "output_type": "display_data"
    },
    {
     "data": {
      "text/plain": [
       "<ggplot: (8735782492157)>"
      ]
     },
     "execution_count": 71,
     "metadata": {},
     "output_type": "execute_result"
    }
   ],
   "source": [
    "(ggplot(data_df, aes(x=\"num_answers\")) +\\\n",
    "    geom_histogram(binwidth = 5)\n",
    "    + theme_bw())"
   ]
  },
  {
   "cell_type": "markdown",
   "metadata": {},
   "source": [
    "How about questions with more than 6 answers?"
   ]
  },
  {
   "cell_type": "code",
   "execution_count": 75,
   "metadata": {},
   "outputs": [
    {
     "data": {
      "image/png": "[encoded data removed]",
      "text/plain": [
       "<matplotlib.figure.Figure at 0x7f1f534efc18>"
      ]
     },
     "metadata": {},
     "output_type": "display_data"
    },
    {
     "data": {
      "text/plain": [
       "<ggplot: (8735787992647)>"
      ]
     },
     "execution_count": 75,
     "metadata": {},
     "output_type": "execute_result"
    }
   ],
   "source": [
    "(ggplot(data_df[data_df.num_answers > 6], aes(x=\"num_answers\")) +\\\n",
    "    geom_histogram(binwidth = 5) + theme_bw())"
   ]
  },
  {
   "cell_type": "markdown",
   "metadata": {},
   "source": [
    "Ok, let's see the scatter plot of `num_answers` and `__ans__` (dependent variable). "
   ]
  },
  {
   "cell_type": "code",
   "execution_count": 76,
   "metadata": {},
   "outputs": [
    {
     "data": {
      "image/png": "[encoded data removed]",
      "text/plain": [
       "<matplotlib.figure.Figure at 0x7f1f58c4ea58>"
      ]
     },
     "metadata": {},
     "output_type": "display_data"
    },
    {
     "data": {
      "text/plain": [
       "<ggplot: (-9223363301066681519)>"
      ]
     },
     "execution_count": 76,
     "metadata": {},
     "output_type": "execute_result"
    }
   ],
   "source": [
    "(ggplot(data_df, aes(x=\"num_answers\", y=\"__ans__\")) \n",
    "    + geom_point()\n",
    "    + geom_smooth(method='lm')\n",
    "    + theme_bw())"
   ]
  },
  {
   "cell_type": "code",
   "execution_count": 77,
   "metadata": {},
   "outputs": [
    {
     "name": "stdout",
     "output_type": "stream",
     "text": [
      "The correlation above is 0.3817680880491783.\n"
     ]
    }
   ],
   "source": [
    "print('The correlation above is {}.'.format(data_df['num_answers'].corr(data_df['__ans__'])))"
   ]
  },
  {
   "cell_type": "code",
   "execution_count": 78,
   "metadata": {},
   "outputs": [
    {
     "data": {
      "image/png": "[encoded data removed]",
      "text/plain": [
       "<matplotlib.figure.Figure at 0x7f1f58be9630>"
      ]
     },
     "metadata": {},
     "output_type": "display_data"
    },
    {
     "data": {
      "text/plain": [
       "<ggplot: (-9223363301066741802)>"
      ]
     },
     "execution_count": 78,
     "metadata": {},
     "output_type": "execute_result"
    }
   ],
   "source": [
    "(ggplot(data_df, aes('num_answers', '__ans__', color='factor(anonymous)'))\n",
    " + theme_bw() #black and white theme\n",
    " + geom_point(size=0.2) \n",
    " + geom_smooth(aes(color='factor(anonymous)'), method='lm') \n",
    " + facet_wrap('~anonymous', nrow=1, scales='free')) # divide the plot by the 'anonymous' column"
   ]
  },
  {
   "cell_type": "code",
   "execution_count": 79,
   "metadata": {},
   "outputs": [
    {
     "name": "stdout",
     "output_type": "stream",
     "text": [
      "For the 0 plot, the coefficient of correlation is 0.36274722384854935, whereas for the 1 plot, it is 0.5674038710053823.\n"
     ]
    }
   ],
   "source": [
    "print('For the 0 plot, the coefficient of correlation is {0}, whereas for the 1 plot, it is {1}.'.format(data_df[data_df['anonymous']==0]['num_answers'].corr(data_df[data_df['anonymous']==0]['__ans__']), data_df[data_df['anonymous']==1]['num_answers'].corr(data_df[data_df['anonymous']==1]['__ans__'])))"
   ]
  },
  {
   "cell_type": "code",
   "execution_count": 80,
   "metadata": {},
   "outputs": [
    {
     "data": {
      "image/png": "[encoded data removed]",
      "text/plain": [
       "<matplotlib.figure.Figure at 0x7f1f5336dcc0>"
      ]
     },
     "metadata": {},
     "output_type": "display_data"
    },
    {
     "data": {
      "text/plain": [
       "<ggplot: (8735782320427)>"
      ]
     },
     "execution_count": 80,
     "metadata": {},
     "output_type": "execute_result"
    }
   ],
   "source": [
    "(ggplot(data_df[data_df.num_answers > 20], aes('num_answers', '__ans__', color='factor(anonymous)'))\n",
    " + theme(legend_position=\"left\")\n",
    " + geom_point() \n",
    " + geom_smooth(aes(color='factor(anonymous)'), method='lm') \n",
    " + facet_wrap('~anonymous', nrow=1, scales='free')\n",
    " + theme_bw())"
   ]
  },
  {
   "cell_type": "markdown",
   "metadata": {},
   "source": [
    "This begs the question: which `num_answers` maximizes the correlation. "
   ]
  },
  {
   "cell_type": "code",
   "execution_count": 81,
   "metadata": {
    "collapsed": true
   },
   "outputs": [],
   "source": [
    "def Corr_gNumAns(int_):\n",
    "    # create a pd series with boolean values \n",
    "    combined_df = data_df.num_answers.apply(lambda x: 1 if x > int_ else 0)\n",
    "    return combined_df.corr(data_df.__ans__)"
   ]
  },
  {
   "cell_type": "code",
   "execution_count": 82,
   "metadata": {},
   "outputs": [
    {
     "data": {
      "text/plain": [
       "0.086570497404718158"
      ]
     },
     "execution_count": 82,
     "metadata": {},
     "output_type": "execute_result"
    }
   ],
   "source": [
    "Corr_gNumAns(0)"
   ]
  },
  {
   "cell_type": "code",
   "execution_count": 83,
   "metadata": {
    "collapsed": true
   },
   "outputs": [],
   "source": [
    "s_df = pd.DataFrame()\n",
    "s_df['>=num_ans'] = data_df.num_answers\n",
    "s = data_df.num_answers.values"
   ]
  },
  {
   "cell_type": "code",
   "execution_count": 84,
   "metadata": {
    "collapsed": true
   },
   "outputs": [],
   "source": [
    "# calculate correlation\n",
    "cor = []\n",
    "for i in range(len(s)):\n",
    "    cor.append(Corr_gNumAns(i))"
   ]
  },
  {
   "cell_type": "code",
   "execution_count": 85,
   "metadata": {
    "collapsed": true
   },
   "outputs": [],
   "source": [
    "# calculate correlation\n",
    "cor = []\n",
    "for i in s:\n",
    "    cor.append(Corr_gNumAns(i))"
   ]
  },
  {
   "cell_type": "code",
   "execution_count": 86,
   "metadata": {},
   "outputs": [
    {
     "data": {
      "text/html": [
       "<div>\n",
       "<style>\n",
       "    .dataframe thead tr:only-child th {\n",
       "        text-align: right;\n",
       "    }\n",
       "\n",
       "    .dataframe thead th {\n",
       "        text-align: left;\n",
       "    }\n",
       "\n",
       "    .dataframe tbody tr th {\n",
       "        vertical-align: top;\n",
       "    }\n",
       "</style>\n",
       "<table border=\"1\" class=\"dataframe\">\n",
       "  <thead>\n",
       "    <tr style=\"text-align: right;\">\n",
       "      <th></th>\n",
       "      <th>cor_coef</th>\n",
       "    </tr>\n",
       "  </thead>\n",
       "  <tbody>\n",
       "    <tr>\n",
       "      <th>8995</th>\n",
       "      <td>0.086570</td>\n",
       "    </tr>\n",
       "    <tr>\n",
       "      <th>8996</th>\n",
       "      <td>0.086570</td>\n",
       "    </tr>\n",
       "    <tr>\n",
       "      <th>8997</th>\n",
       "      <td>0.144580</td>\n",
       "    </tr>\n",
       "    <tr>\n",
       "      <th>8998</th>\n",
       "      <td>0.086570</td>\n",
       "    </tr>\n",
       "    <tr>\n",
       "      <th>8999</th>\n",
       "      <td>0.189539</td>\n",
       "    </tr>\n",
       "  </tbody>\n",
       "</table>\n",
       "</div>"
      ],
      "text/plain": [
       "      cor_coef\n",
       "8995  0.086570\n",
       "8996  0.086570\n",
       "8997  0.144580\n",
       "8998  0.086570\n",
       "8999  0.189539"
      ]
     },
     "execution_count": 86,
     "metadata": {},
     "output_type": "execute_result"
    }
   ],
   "source": [
    "cor_df = pd.DataFrame(cor, columns=['cor_coef'])\n",
    "cor_df.tail()"
   ]
  },
  {
   "cell_type": "markdown",
   "metadata": {},
   "source": [
    "Since we have quite a few `NaN`, we will only plot the non-`NaN` ones."
   ]
  },
  {
   "cell_type": "code",
   "execution_count": 87,
   "metadata": {
    "collapsed": true
   },
   "outputs": [],
   "source": [
    "num_corcoef_df = pd.concat([s_df, cor_df, data_df['anonymous'], data_df['__ans__']], axis=1)"
   ]
  },
  {
   "cell_type": "code",
   "execution_count": 98,
   "metadata": {},
   "outputs": [
    {
     "data": {
      "text/html": [
       "<div>\n",
       "<style>\n",
       "    .dataframe thead tr:only-child th {\n",
       "        text-align: right;\n",
       "    }\n",
       "\n",
       "    .dataframe thead th {\n",
       "        text-align: left;\n",
       "    }\n",
       "\n",
       "    .dataframe tbody tr th {\n",
       "        vertical-align: top;\n",
       "    }\n",
       "</style>\n",
       "<table border=\"1\" class=\"dataframe\">\n",
       "  <thead>\n",
       "    <tr style=\"text-align: right;\">\n",
       "      <th></th>\n",
       "      <th>&gt;=num_ans</th>\n",
       "      <th>cor_coef</th>\n",
       "      <th>anonymous</th>\n",
       "      <th>__ans__</th>\n",
       "    </tr>\n",
       "  </thead>\n",
       "  <tbody>\n",
       "    <tr>\n",
       "      <th>0</th>\n",
       "      <td>4.0</td>\n",
       "      <td>0.245913</td>\n",
       "      <td>0.0</td>\n",
       "      <td>2.089474</td>\n",
       "    </tr>\n",
       "    <tr>\n",
       "      <th>1</th>\n",
       "      <td>1.0</td>\n",
       "      <td>0.144580</td>\n",
       "      <td>0.0</td>\n",
       "      <td>2.692308</td>\n",
       "    </tr>\n",
       "    <tr>\n",
       "      <th>2</th>\n",
       "      <td>1.0</td>\n",
       "      <td>0.144580</td>\n",
       "      <td>0.0</td>\n",
       "      <td>4.612903</td>\n",
       "    </tr>\n",
       "    <tr>\n",
       "      <th>3</th>\n",
       "      <td>1.0</td>\n",
       "      <td>0.144580</td>\n",
       "      <td>0.0</td>\n",
       "      <td>8.051948</td>\n",
       "    </tr>\n",
       "    <tr>\n",
       "      <th>4</th>\n",
       "      <td>0.0</td>\n",
       "      <td>0.086570</td>\n",
       "      <td>0.0</td>\n",
       "      <td>0.150943</td>\n",
       "    </tr>\n",
       "  </tbody>\n",
       "</table>\n",
       "</div>"
      ],
      "text/plain": [
       "   >=num_ans  cor_coef  anonymous   __ans__\n",
       "0  4.0        0.245913  0.0        2.089474\n",
       "1  1.0        0.144580  0.0        2.692308\n",
       "2  1.0        0.144580  0.0        4.612903\n",
       "3  1.0        0.144580  0.0        8.051948\n",
       "4  0.0        0.086570  0.0        0.150943"
      ]
     },
     "execution_count": 98,
     "metadata": {},
     "output_type": "execute_result"
    }
   ],
   "source": [
    "num_corcoef_df.head()"
   ]
  },
  {
   "cell_type": "code",
   "execution_count": 89,
   "metadata": {},
   "outputs": [
    {
     "data": {
      "text/plain": [
       ">=num_ans    311.000000\n",
       "cor_coef    NaN        \n",
       "anonymous    0.000000  \n",
       "__ans__      360.827027\n",
       "Name: 2451, dtype: float64"
      ]
     },
     "execution_count": 89,
     "metadata": {},
     "output_type": "execute_result"
    }
   ],
   "source": [
    "num_corcoef_df.iloc[2451]"
   ]
  },
  {
   "cell_type": "code",
   "execution_count": 90,
   "metadata": {
    "collapsed": true
   },
   "outputs": [],
   "source": [
    "num_corcoef_df.iloc[2451] = num_corcoef_df.iloc[2452]"
   ]
  },
  {
   "cell_type": "code",
   "execution_count": 91,
   "metadata": {},
   "outputs": [
    {
     "data": {
      "image/png": "[encoded data removed]",
      "text/plain": [
       "<matplotlib.figure.Figure at 0x7f1f530649b0>"
      ]
     },
     "metadata": {},
     "output_type": "display_data"
    },
    {
     "data": {
      "text/plain": [
       "<ggplot: (-9223363301072564343)>"
      ]
     },
     "execution_count": 91,
     "metadata": {},
     "output_type": "execute_result"
    }
   ],
   "source": [
    "(ggplot(num_corcoef_df, aes('>=num_ans', 'cor_coef', size='__ans__'))\n",
    "    + geom_point(size=0.2)\n",
    "    + geom_line(size=0.3)\n",
    "    + theme_bw())"
   ]
  },
  {
   "cell_type": "code",
   "execution_count": 92,
   "metadata": {},
   "outputs": [
    {
     "data": {
      "image/png": "[encoded data removed]",
      "text/plain": [
       "<matplotlib.figure.Figure at 0x7f1f535e7ac8>"
      ]
     },
     "metadata": {},
     "output_type": "display_data"
    },
    {
     "data": {
      "text/plain": [
       "<ggplot: (8735782230634)>"
      ]
     },
     "execution_count": 92,
     "metadata": {},
     "output_type": "execute_result"
    }
   ],
   "source": [
    "(ggplot(num_corcoef_df, aes('>=num_ans', 'cor_coef', size='__ans__', color='factor(anonymous)'))\n",
    "    + geom_point(size=0.2)\n",
    "    + geom_line(size=0.3)\n",
    "    + theme_bw()\n",
    "    + facet_wrap('~anonymous', scales='free'))"
   ]
  },
  {
   "cell_type": "markdown",
   "metadata": {},
   "source": [
    "So where is the absolute max of `cor_coef` achieved? "
   ]
  },
  {
   "cell_type": "code",
   "execution_count": 93,
   "metadata": {},
   "outputs": [
    {
     "data": {
      "text/plain": [
       ">=num_ans    29.000000\n",
       "cor_coef     0.391563 \n",
       "anonymous    1.000000 \n",
       "__ans__      12.921053\n",
       "Name: 936, dtype: float64"
      ]
     },
     "execution_count": 93,
     "metadata": {},
     "output_type": "execute_result"
    }
   ],
   "source": [
    "num_corcoef_df.iloc[list(num_corcoef_df.cor_coef.values).index(max(list(num_corcoef_df.cor_coef.values)))] # there is probably a non-gory way of doing this"
   ]
  },
  {
   "cell_type": "markdown",
   "metadata": {},
   "source": [
    "This tells us that setting a boolean column of whether the number of answers is more than 29 gives us a feature that has a correlation coefficient of 0.39 with our target label `__ans__`."
   ]
  },
  {
   "cell_type": "markdown",
   "metadata": {},
   "source": [
    "#### New Feature: Questions with at least 29 Answers"
   ]
  },
  {
   "cell_type": "code",
   "execution_count": 105,
   "metadata": {
    "collapsed": true
   },
   "outputs": [],
   "source": [
    "data_df['num_ans>= 29'] = data_df['num_answers'].apply(lambda x: 1 if x>=29 else 0)"
   ]
  },
  {
   "cell_type": "code",
   "execution_count": 107,
   "metadata": {},
   "outputs": [
    {
     "data": {
      "text/plain": [
       "count    9000.000000\n",
       "mean     0.004556   \n",
       "std      0.067345   \n",
       "min      0.000000   \n",
       "25%      0.000000   \n",
       "50%      0.000000   \n",
       "75%      0.000000   \n",
       "max      1.000000   \n",
       "Name: num_ans>= 29, dtype: float64"
      ]
     },
     "execution_count": 107,
     "metadata": {},
     "output_type": "execute_result"
    }
   ],
   "source": [
    "data_df['num_ans>= 29'].describe()"
   ]
  },
  {
   "cell_type": "code",
   "execution_count": 108,
   "metadata": {},
   "outputs": [
    {
     "data": {
      "text/plain": [
       "0.38688133081043052"
      ]
     },
     "execution_count": 108,
     "metadata": {},
     "output_type": "execute_result"
    }
   ],
   "source": [
    "data_df['num_ans>= 29'].corr(data_df['__ans__'])"
   ]
  },
  {
   "cell_type": "markdown",
   "metadata": {},
   "source": [
    "---"
   ]
  },
  {
   "cell_type": "markdown",
   "metadata": {},
   "source": [
    "### Only \"stories\""
   ]
  },
  {
   "cell_type": "markdown",
   "metadata": {},
   "source": [
    "What about stories? One common theme I see among popular questions in Quora is questions about the best stories or one liners, etc. Let's see if questions with these terms have a more significant correlation than features we built earlier. "
   ]
  },
  {
   "cell_type": "code",
   "execution_count": 110,
   "metadata": {},
   "outputs": [
    {
     "data": {
      "text/html": [
       "<div>\n",
       "<style>\n",
       "    .dataframe thead tr:only-child th {\n",
       "        text-align: right;\n",
       "    }\n",
       "\n",
       "    .dataframe thead th {\n",
       "        text-align: left;\n",
       "    }\n",
       "\n",
       "    .dataframe tbody tr th {\n",
       "        vertical-align: top;\n",
       "    }\n",
       "</style>\n",
       "<table border=\"1\" class=\"dataframe\">\n",
       "  <thead>\n",
       "    <tr style=\"text-align: right;\">\n",
       "      <th></th>\n",
       "      <th>__ans__</th>\n",
       "    </tr>\n",
       "  </thead>\n",
       "  <tbody>\n",
       "    <tr>\n",
       "      <th>count</th>\n",
       "      <td>54.000000</td>\n",
       "    </tr>\n",
       "    <tr>\n",
       "      <th>mean</th>\n",
       "      <td>18.190973</td>\n",
       "    </tr>\n",
       "    <tr>\n",
       "      <th>std</th>\n",
       "      <td>35.926279</td>\n",
       "    </tr>\n",
       "    <tr>\n",
       "      <th>min</th>\n",
       "      <td>0.184375</td>\n",
       "    </tr>\n",
       "    <tr>\n",
       "      <th>25%</th>\n",
       "      <td>0.901786</td>\n",
       "    </tr>\n",
       "    <tr>\n",
       "      <th>50%</th>\n",
       "      <td>2.144773</td>\n",
       "    </tr>\n",
       "    <tr>\n",
       "      <th>75%</th>\n",
       "      <td>9.923735</td>\n",
       "    </tr>\n",
       "    <tr>\n",
       "      <th>max</th>\n",
       "      <td>181.000000</td>\n",
       "    </tr>\n",
       "  </tbody>\n",
       "</table>\n",
       "</div>"
      ],
      "text/plain": [
       "          __ans__\n",
       "count  54.000000 \n",
       "mean   18.190973 \n",
       "std    35.926279 \n",
       "min    0.184375  \n",
       "25%    0.901786  \n",
       "50%    2.144773  \n",
       "75%    9.923735  \n",
       "max    181.000000"
      ]
     },
     "execution_count": 110,
     "metadata": {},
     "output_type": "execute_result"
    }
   ],
   "source": [
    "data_df[data_df.question_text.str.contains(' story|Story|stories|Stories')][['question_text', '__ans__']].describe() # the space before story is in order to avoid mixing up of history"
   ]
  },
  {
   "cell_type": "markdown",
   "metadata": {},
   "source": [
    "There are 54 of these."
   ]
  },
  {
   "cell_type": "code",
   "execution_count": 111,
   "metadata": {
    "collapsed": true
   },
   "outputs": [],
   "source": [
    "# Best stories\n",
    "data_df['qcontains_best_story'] = data_df.question_text.apply(lambda x: 1 if any(pd.Series(x).str.contains(\" story|Story|stories|Stories\")) else 0)"
   ]
  },
  {
   "cell_type": "code",
   "execution_count": 112,
   "metadata": {},
   "outputs": [
    {
     "data": {
      "text/plain": [
       "0.021451384574100143"
      ]
     },
     "execution_count": 112,
     "metadata": {},
     "output_type": "execute_result"
    }
   ],
   "source": [
    "# do a correlation\n",
    "data_df['qcontains_best_story'].corr(data_df['__ans__'])"
   ]
  },
  {
   "cell_type": "markdown",
   "metadata": {},
   "source": [
    "But it's not promising."
   ]
  },
  {
   "cell_type": "code",
   "execution_count": 113,
   "metadata": {
    "scrolled": true
   },
   "outputs": [
    {
     "name": "stdout",
     "output_type": "stream",
     "text": [
      "0.0639145893658\n"
     ]
    },
    {
     "data": {
      "text/html": [
       "<div>\n",
       "<style>\n",
       "    .dataframe thead tr:only-child th {\n",
       "        text-align: right;\n",
       "    }\n",
       "\n",
       "    .dataframe thead th {\n",
       "        text-align: left;\n",
       "    }\n",
       "\n",
       "    .dataframe tbody tr th {\n",
       "        vertical-align: top;\n",
       "    }\n",
       "</style>\n",
       "<table border=\"1\" class=\"dataframe\">\n",
       "  <thead>\n",
       "    <tr style=\"text-align: right;\">\n",
       "      <th></th>\n",
       "      <th>question_text</th>\n",
       "      <th>__ans__</th>\n",
       "    </tr>\n",
       "  </thead>\n",
       "  <tbody>\n",
       "    <tr>\n",
       "      <th>2451</th>\n",
       "      <td>What are some interesting one liners on India?</td>\n",
       "      <td>360.827027</td>\n",
       "    </tr>\n",
       "    <tr>\n",
       "      <th>4521</th>\n",
       "      <td>What are your favourite one-liners from Friends (TV Series)?</td>\n",
       "      <td>32.054054</td>\n",
       "    </tr>\n",
       "    <tr>\n",
       "      <th>6924</th>\n",
       "      <td>What would be good one-liners to complete the phrase, \"There are two kinds of people, those who ...\"?</td>\n",
       "      <td>27.314607</td>\n",
       "    </tr>\n",
       "  </tbody>\n",
       "</table>\n",
       "</div>"
      ],
      "text/plain": [
       "                                                                                              question_text  \\\n",
       "2451  What are some interesting one liners on India?                                                          \n",
       "4521  What are your favourite one-liners from Friends (TV Series)?                                            \n",
       "6924  What would be good one-liners to complete the phrase, \"There are two kinds of people, those who ...\"?   \n",
       "\n",
       "         __ans__  \n",
       "2451  360.827027  \n",
       "4521  32.054054   \n",
       "6924  27.314607   "
      ]
     },
     "execution_count": 113,
     "metadata": {},
     "output_type": "execute_result"
    }
   ],
   "source": [
    "# Best one-liner\n",
    "# first let's get a hint of the keywords associated with \"liners\"\n",
    "data_df['qcontains_best_liner'] = data_df.question_text.apply(lambda x: 1 if any(pd.Series(x).str.contains(\"liners\")) else 0)\n",
    "print(data_df['qcontains_best_liner'].corr(data_df['__ans__']))\n",
    "\n",
    "data_df[data_df.question_text.str.contains('liners')][['question_text', '__ans__']]"
   ]
  },
  {
   "cell_type": "markdown",
   "metadata": {},
   "source": [
    "It wasn't a bad observation afterall, even though I am surprised at the fewness of the questions about one-liners. That probably explains why the correlation is quite low. "
   ]
  },
  {
   "cell_type": "markdown",
   "metadata": {},
   "source": [
    "---"
   ]
  },
  {
   "cell_type": "markdown",
   "metadata": {},
   "source": [
    "**We will continue exploring keywords in the next notebook!**"
   ]
  }
 ],
 "metadata": {
  "kernelspec": {
   "display_name": "Python 3",
   "language": "python",
   "name": "python3"
  },
  "language_info": {
   "codemirror_mode": {
    "name": "ipython",
    "version": 3
   },
   "file_extension": ".py",
   "mimetype": "text/x-python",
   "name": "python",
   "nbconvert_exporter": "python",
   "pygments_lexer": "ipython3",
   "version": "3.6.2"
  }
 },
 "nbformat": 4,
 "nbformat_minor": 2
}
