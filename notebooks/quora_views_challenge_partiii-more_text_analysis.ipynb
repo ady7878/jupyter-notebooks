{
 "cells": [
  {
   "cell_type": "markdown",
   "metadata": {},
   "source": [
    "# Continued"
   ]
  },
  {
   "cell_type": "code",
   "execution_count": 1,
   "metadata": {
    "collapsed": true
   },
   "outputs": [],
   "source": [
    "import pandas as pd\n",
    "import json\n",
    "json_data = open('../views/sample/input00.in') # Edit this to where you have put the input00.in file\n",
    "\n",
    "data = []\n",
    "for line in json_data:\n",
    "    data.append(json.loads(line))\n",
    "\n",
    "data.remove(9000)\n",
    "data.remove(1000)\n",
    "\n",
    "df = pd.DataFrame(data)\n",
    "cleaned_df=pd.DataFrame(data[0:9000])\n",
    "data_df = cleaned_df.copy()"
   ]
  },
  {
   "cell_type": "code",
   "execution_count": 2,
   "metadata": {},
   "outputs": [
    {
     "name": "stderr",
     "output_type": "stream",
     "text": [
      "/usr/lib/python3.6/site-packages/statsmodels/compat/pandas.py:56: FutureWarning: The pandas.core.datetools module is deprecated and will be removed in a future version. Please use the pandas.tseries module instead.\n",
      "  from pandas.core import datetools\n"
     ]
    }
   ],
   "source": [
    "# extra libraries\n",
    "from plotnine import *"
   ]
  },
  {
   "cell_type": "markdown",
   "metadata": {},
   "source": [
    "# More Text Analysis"
   ]
  },
  {
   "cell_type": "code",
   "execution_count": 4,
   "metadata": {},
   "outputs": [
    {
     "data": {
      "text/plain": [
       "0.75     4.019578\n",
       "0.90    12.787143\n",
       "Name: __ans__, dtype: float64"
      ]
     },
     "execution_count": 4,
     "metadata": {},
     "output_type": "execute_result"
    }
   ],
   "source": [
    "# The 75th and 90th percentile of the `__ans__` column.\n",
    "data_df['__ans__'].quantile([0.75, 0.9])"
   ]
  },
  {
   "cell_type": "markdown",
   "metadata": {},
   "source": [
    "Let's analyze the frequency of words that show up in question texts that have `__ans__` in the 75th or above percentile"
   ]
  },
  {
   "cell_type": "code",
   "execution_count": 3,
   "metadata": {
    "collapsed": true
   },
   "outputs": [],
   "source": [
    "# svf stands for seventy-fifth\n",
    "svf_words = data_df[data_df.__ans__ >= 4.019578][['question_text']].question_text.values\n",
    "svf_words = ' '.join(svf_words).split()\n",
    "svf_unique_words = sorted(set(svf_words))"
   ]
  },
  {
   "cell_type": "code",
   "execution_count": 4,
   "metadata": {},
   "outputs": [
    {
     "data": {
      "text/html": [
       "<div>\n",
       "<style>\n",
       "    .dataframe thead tr:only-child th {\n",
       "        text-align: right;\n",
       "    }\n",
       "\n",
       "    .dataframe thead th {\n",
       "        text-align: left;\n",
       "    }\n",
       "\n",
       "    .dataframe tbody tr th {\n",
       "        vertical-align: top;\n",
       "    }\n",
       "</style>\n",
       "<table border=\"1\" class=\"dataframe\">\n",
       "  <thead>\n",
       "    <tr style=\"text-align: right;\">\n",
       "      <th></th>\n",
       "      <th>freq</th>\n",
       "    </tr>\n",
       "  </thead>\n",
       "  <tbody>\n",
       "    <tr>\n",
       "      <th>count</th>\n",
       "      <td>7615.000000</td>\n",
       "    </tr>\n",
       "    <tr>\n",
       "      <th>mean</th>\n",
       "      <td>3.025476</td>\n",
       "    </tr>\n",
       "    <tr>\n",
       "      <th>std</th>\n",
       "      <td>21.722844</td>\n",
       "    </tr>\n",
       "    <tr>\n",
       "      <th>min</th>\n",
       "      <td>1.000000</td>\n",
       "    </tr>\n",
       "    <tr>\n",
       "      <th>25%</th>\n",
       "      <td>1.000000</td>\n",
       "    </tr>\n",
       "    <tr>\n",
       "      <th>50%</th>\n",
       "      <td>1.000000</td>\n",
       "    </tr>\n",
       "    <tr>\n",
       "      <th>75%</th>\n",
       "      <td>2.000000</td>\n",
       "    </tr>\n",
       "    <tr>\n",
       "      <th>max</th>\n",
       "      <td>1275.000000</td>\n",
       "    </tr>\n",
       "  </tbody>\n",
       "</table>\n",
       "</div>"
      ],
      "text/plain": [
       "              freq\n",
       "count  7615.000000\n",
       "mean      3.025476\n",
       "std      21.722844\n",
       "min       1.000000\n",
       "25%       1.000000\n",
       "50%       1.000000\n",
       "75%       2.000000\n",
       "max    1275.000000"
      ]
     },
     "execution_count": 4,
     "metadata": {},
     "output_type": "execute_result"
    }
   ],
   "source": [
    "svf_list = [] \n",
    "for word in svf_unique_words:\n",
    "    if len(word) >= 3:\n",
    "        a = [int(svf_words.count(word)), str(word)]\n",
    "        svf_list.append(a)\n",
    "\n",
    "svf_list_df = pd.DataFrame(svf_list, columns=['freq', 'word']).sort_values(by=['freq'], ascending=False)\n",
    "svf_list_df.describe()"
   ]
  },
  {
   "cell_type": "markdown",
   "metadata": {},
   "source": [
    "Since it's an intensive task to create a correlation on each of the 7615 words, most of which only appear once anyway, let's instead just work with the most frequent 1,000 words. "
   ]
  },
  {
   "cell_type": "code",
   "execution_count": 5,
   "metadata": {
    "collapsed": true
   },
   "outputs": [],
   "source": [
    "# first sort the whole thing\n",
    "svf_list_df = pd.DataFrame(svf_list, columns=['freq', 'word']).sort_values(by=['freq'], ascending=False)\n",
    "\n",
    "# pick out the most frequent 1000 words\n",
    "svf_words_freq_sorted = svf_list_df['word'][:1000].sample(frac=1) # the `sample` method randomizes all the rows (frac=1) after picking the top 1000"
   ]
  },
  {
   "cell_type": "code",
   "execution_count": 6,
   "metadata": {},
   "outputs": [
    {
     "data": {
      "text/plain": [
       "array(['more', 'less', 'learned', 'according', 'because', 'true', 'view',\n",
       "       'international', 'able', 'death?', 'sports', 'cannot', 'better',\n",
       "       'currently', 'sites', 'happen', 'during', 'things', 'language?',\n",
       "       'add', 'college', 'least', 'hotel', 'embedded', 'mind', 'sources',\n",
       "       'long', 'smart', 'start?', 'chance', 'Microsoft', 'level',\n",
       "       'universities', 'companies', 'move', 'just', 'ability', 'was',\n",
       "       'fall', 'become', \"can't\", 'text', 'oil', 'differences', 'process',\n",
       "       'political', 'into', 'startups', 'list', 'country?', 'food',\n",
       "       'download', 'them?', 'space', 'decision?', 'Windows', 'successful',\n",
       "       'exist?', 'experience', 'grow', 'difficult', 'virtual', 'choose',\n",
       "       'necessary', 'economy?', 'said', 'english', 'growth', 'scope',\n",
       "       'across?', 'machine?', 'finance', 'low', 'history?', 'make',\n",
       "       'and/or', 'why?', 'possible', 'regular', 'coding', 'names', 'write',\n",
       "       'access', 'among', 'leading', 'consulting', 'period', 'each',\n",
       "       'support', 'has', 'screen', 'marketing', 'videos', 'history',\n",
       "       'being', 'spread', 'meaning', 'show', 'placement', 'idea', 'money?',\n",
       "       'considering', 'game', 'found', 'President', 'our', 'see',\n",
       "       'opinion', 'Does', 'account?', 'content', 'myself', 'Valley?',\n",
       "       'learn', 'except', 'changing', 'share', 'India', 'master',\n",
       "       'killing', \"don't\", 'major', 'Google', 'favorite', 'their',\n",
       "       'scientists', 'link', 'girlfriend', 'avoid', 'entrepreneur?',\n",
       "       'like', 'and', 'engineering', 'Amazon', 'out', 'police', 'career',\n",
       "       'reality', 'science', 'movie', 'ideas', 'win', 'future?',\n",
       "       'progress', 'got', 'safe', 'matter', 'general', 'bad', 'she',\n",
       "       'Google?', '(or', 'national', 'it?', 'saved', 'iOS', 'between',\n",
       "       '\\\\sin', 'society', 'everyone', 'point', 'where', 'estate', 'size',\n",
       "       'train', 'physics?', 'digital', 'since', 'tips', 'restaurants',\n",
       "       'The', 'software', 'civil', 'etc.?', 'cause', 'photography',\n",
       "       'music', 'attacks', 'mothers', 'still', 'thing', 'adding', 'model?',\n",
       "       'camera', 'recent', 'rate', 'your', 'recommendation', 'amount',\n",
       "       \"you've\", 'are', 'power', 'average', 'old', 'web', 'think',\n",
       "       'stories', 'summer', 'late', 'corporate', 'family', 'examples',\n",
       "       'favourite', 'investment', 'running', 'effect', 'encryption',\n",
       "       'tech', 'up?', 'PhD', 'Bay', 'return', 'program?', 'were',\n",
       "       'learning', 'business?', 'account', 'read?', 'conference',\n",
       "       'Wikipedia', 'Indians', 'simple', 'best', 'desktop', 'laws',\n",
       "       'product?', 'quality', 'months?', 'likely', 'Would', 'available',\n",
       "       'despite', 'C++', 'powerful', 'America', 'good', 'improve', 'there',\n",
       "       'spend', 'rather', 'marriage?', 'inspiring', 'Was', 'girls',\n",
       "       'startups?', 'reading', 'based', 'done', 'like?', 'child',\n",
       "       'advantages', 'money', 'Larry', 'decision', 'role', 'looking',\n",
       "       'options', 'then', 'right', 'society?', 'Japanese', 'businesses',\n",
       "       'kill', 'give', 'while', 'from', 'details', 'San', 'private',\n",
       "       'ever', 'apart', 'soon', 'machine', 'field', 'buy', 'mean',\n",
       "       'engineer', 'Silicon', 'brand', 'sending', 'craziest', 'university',\n",
       "       'Why', 'brain', 'alternative', 'dangerous', 'movies', 'home',\n",
       "       'object', 'indian', 'time', 'might', 'relative', 'provide', 'makes',\n",
       "       'employee', 'math', 'left', 'happens', 'per', 'do?', 'starting',\n",
       "       'watch', 'cool', \"Isn't\", 'year?', \"isn't\", 'Computer', 'credit',\n",
       "       'phone?', 'site?', 'others?', 'start', 'standard', 'what',\n",
       "       'efforts', 'way', 'find', 'system', 'iPhone', 'android',\n",
       "       'University', 'join', 'heard', 'every', 'physics', 'types', 'stop',\n",
       "       'courses', 'season', 'buying', 'energy', 'attractive', 'few',\n",
       "       'creating', 'dollar', 'data', 'too', 'plausible', 'military',\n",
       "       'professors', 'effective', 'decide', 'going', 'wrong', 'people?',\n",
       "       'legal', 'marriage', 'Can', 'different', 'power?', 'real',\n",
       "       'business', 'consider', 'using', 'through', 'travel', 'like,',\n",
       "       'needed', 'facebook', 'Python', 'doing', 'difference', 'cost',\n",
       "       'violent', 'explanation', 'place', 'Delhi', 'Ubuntu', 'shows',\n",
       "       'Area', 'blogs', 'cold', 'guy', 'high', 'study', 'Will', 'nuclear',\n",
       "       'New', 'called', 'advice', 'product', 'before', 'either', 'past?',\n",
       "       'hacks', 'seen', 'day?', 'result', 'question', 'coffee', 'car',\n",
       "       'professor', 'Jobs', 'sleep', 'app', 'call', 'the', 'use', 'same',\n",
       "       'importance', 'methods', 'turn', 'light', 'government', 'him',\n",
       "       'affect', 'control', 'you,', 'employees', 'information', 'answer?',\n",
       "       'near', 'campus', 'staying', 'terms', 'need', 'community',\n",
       "       \"someone's\", 'finding', 'but', 'microsoft', 'degree', 'popular',\n",
       "       'convince', 'kinds', 'case', 'intelligence', 'media', 'North',\n",
       "       'shoot', 'interesting', 'Should', 'words', 'used', 'around', 'last',\n",
       "       'laptop', 'English', 'JavaScript', 'prepare', 'her', 'ask', 'end',\n",
       "       'IITians', 'build', 'ten', 'features', 'both', 'series', 'state',\n",
       "       'teach', 'mistakes', 'key', 'memory', 'places', 'fast',\n",
       "       'application', 'challenging', 'Facebook', 'country', 'women?',\n",
       "       'ways', 'possible?', 'within', 'sense', 'paid', 'quantum',\n",
       "       'programming', 'very', 'biggest', 'school', 'one', 'these', 'cloud',\n",
       "       'photo', 'single', 'gets', 'own', 'Jimmy', 'websites', 'instead',\n",
       "       'Indian', 'yourself', 'experience?', 'connections', 'reduce',\n",
       "       'regarding', 'you', 'often', 'times', 'normal', 'visiting', 'Steve',\n",
       "       'survive', 'anyone', 'send', 'living', 'telling', 'Your', 'human',\n",
       "       'photos', 'explain', 'widely', 'animals', 'common', 'working',\n",
       "       'posts', 'correct', 'trust', 'for', 'rank', 'cons', 'languages',\n",
       "       'Twitter', 'India?', 'launch', 'program', 'research', 'areas',\n",
       "       'plan', 'know?', 'love', 'apps', 'Internet', 'Japan', 'success',\n",
       "       'mathematics', 'Python?', 'startup', 'Kickstarter', 'James',\n",
       "       'water', 'sex', 'e-commerce', 'website?', 'market?', 'theory',\n",
       "       'hurt', 'custom', 'Did', \"didn't\", 'wanted', 'direct', 'top',\n",
       "       'asked', 'had', 'technology', 'kind', 'bringing', 'increasing',\n",
       "       'classes', 'most?', 'percentage', 'area', 'tell', 'required',\n",
       "       'Have', 'large', 'writing', 'programming?', 'story', 'Apple',\n",
       "       'considered', 'really', 'reasons', 'Americans', 'phones?',\n",
       "       'actually', 'global', 'technical', 'City?', 'added', 'much',\n",
       "       'planning', 'down?', 'startup?', 'products', 'facts', 'should',\n",
       "       'team', 'prove', 'happened', 'inspired', 'want', 'world', 'strong',\n",
       "       'once', 'educational', 'highest', 'when', 'worth', 'company?',\n",
       "       'following', 'source', 'random', 'search', 'lives', 'potential',\n",
       "       'against', 'similar', 'significant', 'BITS', 'them', 'clear', 'NBA',\n",
       "       'short', 'American', 'receive', 'prevent', 'character', 'raised',\n",
       "       'two', 'word', 'Best', 'names?', 'moved', 'married', 'position',\n",
       "       'countries', 'Java', 'Korean', 'social', 'Bill', 'coming',\n",
       "       'student', 'consumer', 'serve', 'changes', 'salary', 'IIT', 'tools',\n",
       "       'leave', 'U.S.', 'Islam', 'jokes', 'active', 'most', 'consecutive',\n",
       "       'player', 'know', 'of?', 'hard', 'me?', 'next', 'beautiful', 'why',\n",
       "       'only', 'needs', 'island', 'Marc', 'work', 'which', 'detect',\n",
       "       'continue', 'Who', 'originated', 'Wales', 'algorithm', 'post',\n",
       "       'amazing', 'scientific', 'about', \"doesn't\", 'started', 'design',\n",
       "       'pros', 'making', 'Why?', 'economic', 'did', 'attention', 'daily',\n",
       "       'person', 'new', 'Java?', '2012?', 'scene?', 'look', 'down', 'book',\n",
       "       'they', 'page?', 'girl', 'humans', 'play', 'soccer', 'stupid',\n",
       "       'Bangalore?', 'this?', 'IITs', 'option', 'songs', 'Where', 'such',\n",
       "       'someone', 'well', 'say', 'cases', 'first', 'events', 'escape',\n",
       "       'choose?', 'students', 'along', 'invest', 'little', 'deal',\n",
       "       'creative', 'steps', 'with?', 'that', 'numbers', 'animal', 'taken',\n",
       "       'boyfriend', 'pay', 'goes', 'problems', 'Kim', 'questions',\n",
       "       'mind-blowing', 'And', \"What's\", 'age?', 'seek', 'maximum', 'great',\n",
       "       'out?', 'off', 'engineering?', 'solution', 'come', 'night',\n",
       "       'contact', 'apply', 'help', 'stock', 'USA?', 'capital', 'language',\n",
       "       'never', 'What', 'online', 'MBA', 'projects', 'picture', 'could',\n",
       "       'yet', 'triangle', 'girlfriend?', 'already', 'universe?', 'Web',\n",
       "       'sign', 'allow', 'services', 'famous', 'form', 'United', 'Quora,',\n",
       "       'basic', 'beginning', 'company', \"I'm\", 'path', 'system?', 'than',\n",
       "       'job', 'Glass?', 'dollars', 'criteria', 'movies?', 'pictures',\n",
       "       'algorithms?', 'does', 'electricity', 'opposite', 'lines',\n",
       "       'personal', 'create', 'Masters', 'predict', 'full', 'Germany?',\n",
       "       'people', 'who', 'same?', 'century?', 'besides', 'cross', 'take',\n",
       "       'anything', 'how', 'film', 'getting', 'analysis', 'relationship',\n",
       "       'knowledge', 'early', 'pursue', 'hiring', 'email', 'declared',\n",
       "       'industry', 'morally', 'far', 'investor', 'Quora?', 'keep', 'video',\n",
       "       'modern', 'moment', 'hate', 'sound', 'name', 'price', 'can',\n",
       "       'group', 'part', 'increase', 'project', 'playing', 'without',\n",
       "       'population', 'lead', 'vs.', 'ever?', 'development', 'other',\n",
       "       'type', 'google', 'current', 'profile', 'time?', 'US?', 'worst',\n",
       "       'change', 'analyst', 'back', 'hire', 'even', 'mobile', 'minimum',\n",
       "       'service', 'lot', 'school?', 'wearing', 'alcohol', 'day', 'longer',\n",
       "       'nothing', 'made', 'now?', 'more?', 'campus?', 'shown', '2013',\n",
       "       'men', 'city', 'work?', 'young', 'age', 'compare', 'players', 'get',\n",
       "       'women', 'been', 'Top', 'house', 'with', 'order', 'crash', 'B2B',\n",
       "       \"one's\", 'vacation', 'future', 'public', 'resources', 'USA', 'many',\n",
       "       'song', 'medical', 'year', 'be?', 'college?', 'sexual', 'you?',\n",
       "       'scene', 'life', 'years', 'World', 'How', 'physical', 'any',\n",
       "       'industry?', 'behind', 'enjoy', 'suddenly', 'will', 'Michael',\n",
       "       'close', 'big', 'under', 'reliable', 'programmers', 'eat', 'store',\n",
       "       'his', 'this', 'points', 'heavy', 'not', 'parents', 'free', 'days?',\n",
       "       'important', 'run', 'earth?', 'financial', 'recommend', 'develop',\n",
       "       'put', 'Which', \"aren't\", 'outside', 'sort', 'launched', 'another',\n",
       "       'life?', 'animated', 'Quora', 'War', 'read', 'natural', 'secret',\n",
       "       'given', 'believe', 'small', 'law', 'value', 'understand',\n",
       "       'meaning?', 'its', 'background', 'answers', 'man', 'some', 'God',\n",
       "       'dark', 'all', 'number', 'Has', 'learning?', 'kept', 'now',\n",
       "       'world?', 'something', 'live', 'enough', 'art', 'years?',\n",
       "       'computer', 'having', 'feel', 'With', 'stay', 'sell', 'Chinese',\n",
       "       'When', 'model', 'platform', 'known', 'wants', 'jobs', 'evidence',\n",
       "       'education', 'website', 'for?', 'actions', 'Are', 'win?', 'members',\n",
       "       'foreign', 'books', 'certain', 'answer', 'main', 'have', 'over',\n",
       "       'greatest', 'course', 'always', 'anything,', 'significance',\n",
       "       'those', 'else', 'engine', 'would', 'after'], dtype=object)"
      ]
     },
     "execution_count": 6,
     "metadata": {},
     "output_type": "execute_result"
    }
   ],
   "source": [
    "# convert in to an array\n",
    "svf_list_ = svf_words_freq_sorted.values \n",
    "svf_list_"
   ]
  },
  {
   "cell_type": "markdown",
   "metadata": {},
   "source": [
    "To make our task even less intensive (running the analysis, which I will describe below, took longer than 15 mins on the 1000 words), let's do it in chunks. Details below. "
   ]
  },
  {
   "cell_type": "code",
   "execution_count": 7,
   "metadata": {
    "collapsed": true
   },
   "outputs": [],
   "source": [
    "# divide svf_list_ into chunks\n",
    "out = []\n",
    "def chunkIt(seq, num):\n",
    "    avg = len(seq) / float(num)\n",
    "    last = 0.0\n",
    "    \n",
    "    while last < len(seq):\n",
    "        out.append(seq[int(last):int(last + avg)])\n",
    "        last += avg"
   ]
  },
  {
   "cell_type": "code",
   "execution_count": 8,
   "metadata": {
    "collapsed": true
   },
   "outputs": [],
   "source": [
    "# the array `out` has 20 subarrays containing 50 words\n",
    "chunkIt(svf_list_, 20)"
   ]
  },
  {
   "cell_type": "markdown",
   "metadata": {},
   "source": [
    "We will run each word and look up the correlation."
   ]
  },
  {
   "cell_type": "code",
   "execution_count": 9,
   "metadata": {
    "collapsed": true
   },
   "outputs": [],
   "source": [
    "# give it an index and it will return the correlation array of the words in `out[index]`\n",
    "def corrIt(idx):\n",
    "    var = []\n",
    "    for i in range(len(out[idx])):\n",
    "        a = data_df.question_text.apply(lambda x: 1 if any(pd.Series(x).str.contains(str(out[idx][i]))) else 0)\n",
    "        var.append(a.corr(data_df['__ans__']))\n",
    "    return var"
   ]
  },
  {
   "cell_type": "code",
   "execution_count": 10,
   "metadata": {
    "collapsed": true
   },
   "outputs": [],
   "source": [
    "# return a sorted dataframe with words and their correlation in appearance\n",
    "def dfIt(idx):\n",
    "    corr_list = corrIt(idx)\n",
    "    mash_df = pd.concat([pd.DataFrame(corr_list, columns=['cor']),pd.DataFrame(out[idx],\n",
    "                                                                       columns=['word'])],\n",
    "                   axis=1)\n",
    "    return mash_df.sort_values(by='cor', ascending=False)"
   ]
  },
  {
   "cell_type": "code",
   "execution_count": 11,
   "metadata": {},
   "outputs": [
    {
     "data": {
      "text/html": [
       "<div>\n",
       "<style>\n",
       "    .dataframe thead tr:only-child th {\n",
       "        text-align: right;\n",
       "    }\n",
       "\n",
       "    .dataframe thead th {\n",
       "        text-align: left;\n",
       "    }\n",
       "\n",
       "    .dataframe tbody tr th {\n",
       "        vertical-align: top;\n",
       "    }\n",
       "</style>\n",
       "<table border=\"1\" class=\"dataframe\">\n",
       "  <thead>\n",
       "    <tr style=\"text-align: right;\">\n",
       "      <th></th>\n",
       "      <th>cor</th>\n",
       "      <th>word</th>\n",
       "    </tr>\n",
       "  </thead>\n",
       "  <tbody>\n",
       "    <tr>\n",
       "      <th>15</th>\n",
       "      <td>0.034105</td>\n",
       "      <td>With</td>\n",
       "    </tr>\n",
       "    <tr>\n",
       "      <th>6</th>\n",
       "      <td>0.028274</td>\n",
       "      <td>world?</td>\n",
       "    </tr>\n",
       "    <tr>\n",
       "      <th>48</th>\n",
       "      <td>0.024004</td>\n",
       "      <td>would</td>\n",
       "    </tr>\n",
       "    <tr>\n",
       "      <th>38</th>\n",
       "      <td>0.021665</td>\n",
       "      <td>have</td>\n",
       "    </tr>\n",
       "    <tr>\n",
       "      <th>44</th>\n",
       "      <td>0.011307</td>\n",
       "      <td>significance</td>\n",
       "    </tr>\n",
       "  </tbody>\n",
       "</table>\n",
       "</div>"
      ],
      "text/plain": [
       "         cor          word\n",
       "15  0.034105          With\n",
       "6   0.028274        world?\n",
       "48  0.024004         would\n",
       "38  0.021665          have\n",
       "44  0.011307  significance"
      ]
     },
     "execution_count": 11,
     "metadata": {},
     "output_type": "execute_result"
    }
   ],
   "source": [
    "df_19=dfIt(19)\n",
    "df_19.head()"
   ]
  },
  {
   "cell_type": "markdown",
   "metadata": {},
   "source": [
    "Would be nice to add the length and frequency."
   ]
  },
  {
   "cell_type": "code",
   "execution_count": 12,
   "metadata": {
    "collapsed": true
   },
   "outputs": [],
   "source": [
    "def enrich(data_f):\n",
    "    data_f['len'] = data_f['word'].apply(lambda x: len(x)) #adds length\n",
    "    data_f['freq'] = data_f['word'].apply(lambda x: # grab frequency of the word from `svf_list_df`\n",
    "                                          svf_list_df[svf_list_df['word']==x].iloc[0].freq)\n",
    "    return data_f"
   ]
  },
  {
   "cell_type": "code",
   "execution_count": 13,
   "metadata": {},
   "outputs": [
    {
     "data": {
      "text/html": [
       "<div>\n",
       "<style>\n",
       "    .dataframe thead tr:only-child th {\n",
       "        text-align: right;\n",
       "    }\n",
       "\n",
       "    .dataframe thead th {\n",
       "        text-align: left;\n",
       "    }\n",
       "\n",
       "    .dataframe tbody tr th {\n",
       "        vertical-align: top;\n",
       "    }\n",
       "</style>\n",
       "<table border=\"1\" class=\"dataframe\">\n",
       "  <thead>\n",
       "    <tr style=\"text-align: right;\">\n",
       "      <th></th>\n",
       "      <th>cor</th>\n",
       "      <th>word</th>\n",
       "      <th>len</th>\n",
       "      <th>freq</th>\n",
       "    </tr>\n",
       "  </thead>\n",
       "  <tbody>\n",
       "    <tr>\n",
       "      <th>15</th>\n",
       "      <td>0.034105</td>\n",
       "      <td>With</td>\n",
       "      <td>4</td>\n",
       "      <td>4</td>\n",
       "    </tr>\n",
       "    <tr>\n",
       "      <th>6</th>\n",
       "      <td>0.028274</td>\n",
       "      <td>world?</td>\n",
       "      <td>6</td>\n",
       "      <td>17</td>\n",
       "    </tr>\n",
       "    <tr>\n",
       "      <th>48</th>\n",
       "      <td>0.024004</td>\n",
       "      <td>would</td>\n",
       "      <td>5</td>\n",
       "      <td>128</td>\n",
       "    </tr>\n",
       "    <tr>\n",
       "      <th>38</th>\n",
       "      <td>0.021665</td>\n",
       "      <td>have</td>\n",
       "      <td>4</td>\n",
       "      <td>171</td>\n",
       "    </tr>\n",
       "    <tr>\n",
       "      <th>44</th>\n",
       "      <td>0.011307</td>\n",
       "      <td>significance</td>\n",
       "      <td>12</td>\n",
       "      <td>5</td>\n",
       "    </tr>\n",
       "  </tbody>\n",
       "</table>\n",
       "</div>"
      ],
      "text/plain": [
       "         cor          word  len  freq\n",
       "15  0.034105          With    4     4\n",
       "6   0.028274        world?    6    17\n",
       "48  0.024004         would    5   128\n",
       "38  0.021665          have    4   171\n",
       "44  0.011307  significance   12     5"
      ]
     },
     "execution_count": 13,
     "metadata": {},
     "output_type": "execute_result"
    }
   ],
   "source": [
    "enrich(df_19).head()"
   ]
  },
  {
   "cell_type": "code",
   "execution_count": 14,
   "metadata": {},
   "outputs": [
    {
     "data": {
      "image/png": "[encoded data removed]",
      "text/plain": [
       "<matplotlib.figure.Figure at 0x7f8194caac18>"
      ]
     },
     "metadata": {},
     "output_type": "display_data"
    },
    {
     "data": {
      "text/plain": [
       "<ggplot: (-9223363274697024831)>"
      ]
     },
     "execution_count": 14,
     "metadata": {},
     "output_type": "execute_result"
    }
   ],
   "source": [
    "(ggplot(df_19, aes('freq', 'cor', color='factor(len)'))+ geom_point())"
   ]
  },
  {
   "cell_type": "code",
   "execution_count": 15,
   "metadata": {},
   "outputs": [
    {
     "data": {
      "text/plain": [
       "(2.99, 5.25]    26\n",
       "(5.25, 7.5]     15\n",
       "(7.5, 9.75]      8\n",
       "(9.75, 12.0]     1\n",
       "Name: len, dtype: int64"
      ]
     },
     "execution_count": 15,
     "metadata": {},
     "output_type": "execute_result"
    }
   ],
   "source": [
    "df_19['len'].value_counts(bins=4)"
   ]
  },
  {
   "cell_type": "code",
   "execution_count": 16,
   "metadata": {
    "collapsed": true
   },
   "outputs": [],
   "source": [
    "# divide length into bins\n",
    "bins = [2.9, 4.9, 7.9, 12] # bins will be effectively be [3, 5) etc\n",
    "group_names = ['[3, 5)', '[5-8)', '[8-12]']\n",
    "df_19['len_bins'] = pd.cut(df_19.len, bins, labels=group_names)"
   ]
  },
  {
   "cell_type": "code",
   "execution_count": 17,
   "metadata": {},
   "outputs": [
    {
     "data": {
      "text/html": [
       "<div>\n",
       "<style>\n",
       "    .dataframe thead tr:only-child th {\n",
       "        text-align: right;\n",
       "    }\n",
       "\n",
       "    .dataframe thead th {\n",
       "        text-align: left;\n",
       "    }\n",
       "\n",
       "    .dataframe tbody tr th {\n",
       "        vertical-align: top;\n",
       "    }\n",
       "</style>\n",
       "<table border=\"1\" class=\"dataframe\">\n",
       "  <thead>\n",
       "    <tr style=\"text-align: right;\">\n",
       "      <th></th>\n",
       "      <th>cor</th>\n",
       "      <th>word</th>\n",
       "      <th>len</th>\n",
       "      <th>freq</th>\n",
       "      <th>len_bins</th>\n",
       "    </tr>\n",
       "  </thead>\n",
       "  <tbody>\n",
       "    <tr>\n",
       "      <th>15</th>\n",
       "      <td>0.034105</td>\n",
       "      <td>With</td>\n",
       "      <td>4</td>\n",
       "      <td>4</td>\n",
       "      <td>[3, 5)</td>\n",
       "    </tr>\n",
       "    <tr>\n",
       "      <th>6</th>\n",
       "      <td>0.028274</td>\n",
       "      <td>world?</td>\n",
       "      <td>6</td>\n",
       "      <td>17</td>\n",
       "      <td>[5-8)</td>\n",
       "    </tr>\n",
       "    <tr>\n",
       "      <th>48</th>\n",
       "      <td>0.024004</td>\n",
       "      <td>would</td>\n",
       "      <td>5</td>\n",
       "      <td>128</td>\n",
       "      <td>[5-8)</td>\n",
       "    </tr>\n",
       "    <tr>\n",
       "      <th>38</th>\n",
       "      <td>0.021665</td>\n",
       "      <td>have</td>\n",
       "      <td>4</td>\n",
       "      <td>171</td>\n",
       "      <td>[3, 5)</td>\n",
       "    </tr>\n",
       "    <tr>\n",
       "      <th>44</th>\n",
       "      <td>0.011307</td>\n",
       "      <td>significance</td>\n",
       "      <td>12</td>\n",
       "      <td>5</td>\n",
       "      <td>[8-12]</td>\n",
       "    </tr>\n",
       "  </tbody>\n",
       "</table>\n",
       "</div>"
      ],
      "text/plain": [
       "         cor          word  len  freq len_bins\n",
       "15  0.034105          With    4     4   [3, 5)\n",
       "6   0.028274        world?    6    17    [5-8)\n",
       "48  0.024004         would    5   128    [5-8)\n",
       "38  0.021665          have    4   171   [3, 5)\n",
       "44  0.011307  significance   12     5   [8-12]"
      ]
     },
     "execution_count": 17,
     "metadata": {},
     "output_type": "execute_result"
    }
   ],
   "source": [
    "df_19.head()"
   ]
  },
  {
   "cell_type": "markdown",
   "metadata": {},
   "source": [
    "Now let's redo the plot."
   ]
  },
  {
   "cell_type": "code",
   "execution_count": 18,
   "metadata": {},
   "outputs": [
    {
     "data": {
      "image/png": "[encoded data removed]",
      "text/plain": [
       "<matplotlib.figure.Figure at 0x7f8194b524e0>"
      ]
     },
     "metadata": {},
     "output_type": "display_data"
    },
    {
     "data": {
      "text/plain": [
       "<ggplot: (-9223363274697119274)>"
      ]
     },
     "execution_count": 18,
     "metadata": {},
     "output_type": "execute_result"
    }
   ],
   "source": [
    "(ggplot(df_19, aes('freq', 'cor'))\n",
    "     + geom_point(aes(color='len_bins'))\n",
    "     + geom_line(aes(group='len_bins'), size=0.1)\n",
    ")"
   ]
  },
  {
   "cell_type": "markdown",
   "metadata": {},
   "source": [
    "We could use zooming into 0-50 freq as it is apparent that higher frequency words have higher correlation. "
   ]
  },
  {
   "cell_type": "code",
   "execution_count": 19,
   "metadata": {},
   "outputs": [
    {
     "data": {
      "image/png": "[encoded data removed]",
      "text/plain": [
       "<matplotlib.figure.Figure at 0x7f8194a31f60>"
      ]
     },
     "metadata": {},
     "output_type": "display_data"
    },
    {
     "data": {
      "text/plain": [
       "<ggplot: (8762157645772)>"
      ]
     },
     "execution_count": 19,
     "metadata": {},
     "output_type": "execute_result"
    }
   ],
   "source": [
    "\n",
    "(ggplot(df_19[df_19['freq']<50], aes('freq', 'cor'))\n",
    "     + geom_point(aes(color='len_bins'))\n",
    "     + geom_line(aes(group='len_bins'), size=0.1)\n",
    ")"
   ]
  },
  {
   "cell_type": "markdown",
   "metadata": {},
   "source": [
    "So the previous conclusion hold for words that are three or four letters long."
   ]
  },
  {
   "cell_type": "code",
   "execution_count": 20,
   "metadata": {},
   "outputs": [
    {
     "data": {
      "image/png": "[encoded data removed]",
      "text/plain": [
       "<matplotlib.figure.Figure at 0x7f819498ba20>"
      ]
     },
     "metadata": {},
     "output_type": "display_data"
    },
    {
     "data": {
      "text/plain": [
       "<ggplot: (8762157580215)>"
      ]
     },
     "execution_count": 20,
     "metadata": {},
     "output_type": "execute_result"
    }
   ],
   "source": [
    "\n",
    "(ggplot(df_19[df_19['freq']<15], aes('freq', 'cor'))\n",
    "     + geom_point(aes(color='len_bins'))\n",
    "     + geom_line(aes(group='len_bins'), size=0.1)\n",
    ")"
   ]
  },
  {
   "cell_type": "markdown",
   "metadata": {},
   "source": [
    "Nothing more is descernable at this point."
   ]
  },
  {
   "cell_type": "markdown",
   "metadata": {},
   "source": [
    "---"
   ]
  },
  {
   "cell_type": "markdown",
   "metadata": {},
   "source": [
    "To check our work, let's go through the code. Say, we pick `out[19][2]`, the second word in the 19th slice "
   ]
  },
  {
   "cell_type": "code",
   "execution_count": 21,
   "metadata": {},
   "outputs": [
    {
     "name": "stdout",
     "output_type": "stream",
     "text": [
      "Has Has\n"
     ]
    },
    {
     "data": {
      "text/plain": [
       "count    9000.000000\n",
       "mean        0.006000\n",
       "std         0.077231\n",
       "min         0.000000\n",
       "25%         0.000000\n",
       "50%         0.000000\n",
       "75%         0.000000\n",
       "max         1.000000\n",
       "Name: question_text, dtype: float64"
      ]
     },
     "execution_count": 21,
     "metadata": {},
     "output_type": "execute_result"
    }
   ],
   "source": [
    "print(out[19][2], str(out[19][2]))\n",
    "data_df.question_text.apply(lambda x: 1 if any(pd.Series(x).str.contains(str(out[19][2]))) else 0).describe()"
   ]
  },
  {
   "cell_type": "markdown",
   "metadata": {},
   "source": [
    "The series has 9000 entries of zeroes and one--zero means the question text in that row doesn't contain the keyword `out[19][2]=`*research*. So, looking at the mean of the series, we can tell data points with a question text conatining this word are 0.6% of the dataset. \n",
    "\n",
    "On the other hand, we are calculating the correlation between `__ans__` and the above series of 0's and 1's. This effectively tells us if we should weigh question texts with the particular word more.  "
   ]
  },
  {
   "cell_type": "markdown",
   "metadata": {},
   "source": [
    "Now, we will check the correlation in the remaining 19 chunks as we did with the 19th chunk. Simply run `corrIt(index)`. "
   ]
  },
  {
   "cell_type": "code",
   "execution_count": 35,
   "metadata": {},
   "outputs": [
    {
     "name": "stdout",
     "output_type": "stream",
     "text": [
      "\\sin is at 3 7\n"
     ]
    }
   ],
   "source": [
    "# Searching for `\\\\` it only appears once as `\\\\sin` and `++` only appears in `C++`\n",
    "for i in range(20):\n",
    "    try:\n",
    "        if list(out[i]).index('\\\\sin') != 999:\n",
    "            print('\\\\sin is at', i, list(out[i]).index('\\\\sin'))\n",
    "        if list(out[i]).index('C++') != 999:\n",
    "            print('C++ is at ', i, list(out[i]).index('C++'))\n",
    "    except:\n",
    "        pass"
   ]
  },
  {
   "cell_type": "code",
   "execution_count": 36,
   "metadata": {},
   "outputs": [
    {
     "data": {
      "text/plain": [
       "'\\\\sin'"
      ]
     },
     "execution_count": 36,
     "metadata": {},
     "output_type": "execute_result"
    }
   ],
   "source": [
    "out[3][7]"
   ]
  },
  {
   "cell_type": "markdown",
   "metadata": {},
   "source": [
    "We need to get rid of this to avoid [`multiple repeat` errors](https://docs.python.org/2/library/re.html)."
   ]
  },
  {
   "cell_type": "code",
   "execution_count": 37,
   "metadata": {
    "collapsed": true
   },
   "outputs": [],
   "source": [
    "out[3][7] = 'sin'"
   ]
  },
  {
   "cell_type": "markdown",
   "metadata": {},
   "source": [
    "### Calculate the correlation of all the lists"
   ]
  },
  {
   "cell_type": "code",
   "execution_count": null,
   "metadata": {
    "collapsed": true
   },
   "outputs": [],
   "source": [
    "corr_big_list = []\n",
    "for i in range(0,20):\n",
    "    corr_big_list.append(corrIt(i))"
   ]
  },
  {
   "cell_type": "code",
   "execution_count": 2,
   "metadata": {
    "scrolled": true
   },
   "outputs": [
    {
     "name": "stdout",
     "output_type": "stream",
     "text": [
      "\n",
      "\n",
      "Min\n"
     ]
    },
    {
     "ename": "NameError",
     "evalue": "name 'corr_big_list' is not defined",
     "output_type": "error",
     "traceback": [
      "\u001b[0;31m---------------------------------------------------------------------------\u001b[0m",
      "\u001b[0;31mNameError\u001b[0m                                 Traceback (most recent call last)",
      "\u001b[0;32m<ipython-input-2-6032a748219f>\u001b[0m in \u001b[0;36m<module>\u001b[0;34m()\u001b[0m\n\u001b[1;32m      1\u001b[0m \u001b[0mprint\u001b[0m\u001b[0;34m(\u001b[0m\u001b[0;34m'\\n'\u001b[0m\u001b[0;34m)\u001b[0m\u001b[0;34m\u001b[0m\u001b[0m\n\u001b[1;32m      2\u001b[0m \u001b[0mprint\u001b[0m\u001b[0;34m(\u001b[0m\u001b[0;34m'Min'\u001b[0m\u001b[0;34m)\u001b[0m\u001b[0;34m\u001b[0m\u001b[0m\n\u001b[0;32m----> 3\u001b[0;31m \u001b[0;32mfor\u001b[0m \u001b[0mi\u001b[0m \u001b[0;32min\u001b[0m \u001b[0mrange\u001b[0m\u001b[0;34m(\u001b[0m\u001b[0mlen\u001b[0m\u001b[0;34m(\u001b[0m\u001b[0mcorr_big_list\u001b[0m\u001b[0;34m)\u001b[0m\u001b[0;34m)\u001b[0m\u001b[0;34m:\u001b[0m\u001b[0;34m\u001b[0m\u001b[0m\n\u001b[0m\u001b[1;32m      4\u001b[0m     \u001b[0mprint\u001b[0m\u001b[0;34m(\u001b[0m\u001b[0mi\u001b[0m\u001b[0;34m,\u001b[0m \u001b[0mmin\u001b[0m\u001b[0;34m(\u001b[0m\u001b[0mcorr_big_list\u001b[0m\u001b[0;34m[\u001b[0m\u001b[0mi\u001b[0m\u001b[0;34m]\u001b[0m\u001b[0;34m)\u001b[0m\u001b[0;34m)\u001b[0m\u001b[0;34m\u001b[0m\u001b[0m\n\u001b[1;32m      5\u001b[0m \u001b[0mprint\u001b[0m\u001b[0;34m(\u001b[0m\u001b[0;34m'\\n'\u001b[0m\u001b[0;34m)\u001b[0m\u001b[0;34m\u001b[0m\u001b[0m\n",
      "\u001b[0;31mNameError\u001b[0m: name 'corr_big_list' is not defined"
     ]
    }
   ],
   "source": [
    "print('\\n')\n",
    "print('Min')\n",
    "for i in range(len(corr_big_list)):\n",
    "    print(i, min(corr_big_list[i]))\n",
    "print('\\n')\n",
    "print('Max')\n",
    "for i in range(len(corr_big_list)):\n",
    "    print( i, max(corr_big_list[i]))"
   ]
  },
  {
   "cell_type": "code",
   "execution_count": null,
   "metadata": {
    "collapsed": true
   },
   "outputs": [],
   "source": [
    "corr_big_list[4].index(0.1023288271726879)"
   ]
  },
  {
   "cell_type": "code",
   "execution_count": 1,
   "metadata": {},
   "outputs": [
    {
     "ename": "NameError",
     "evalue": "name 'corr_big_list' is not defined",
     "output_type": "error",
     "traceback": [
      "\u001b[0;31m---------------------------------------------------------------------------\u001b[0m",
      "\u001b[0;31mNameError\u001b[0m                                 Traceback (most recent call last)",
      "\u001b[0;32m<ipython-input-1-0ce4fd84dab6>\u001b[0m in \u001b[0;36m<module>\u001b[0;34m()\u001b[0m\n\u001b[0;32m----> 1\u001b[0;31m \u001b[0mcorr_big_list\u001b[0m\u001b[0;34m\u001b[0m\u001b[0m\n\u001b[0m",
      "\u001b[0;31mNameError\u001b[0m: name 'corr_big_list' is not defined"
     ]
    }
   ],
   "source": [
    "corr_big_list"
   ]
  },
  {
   "cell_type": "code",
   "execution_count": null,
   "metadata": {
    "collapsed": true
   },
   "outputs": [],
   "source": [
    "out[4][15]"
   ]
  },
  {
   "cell_type": "markdown",
   "metadata": {},
   "source": [
    "Ok *university* does really well compared to others, with correlation of `0.10`. What if we look at the combination of the top 3 words."
   ]
  }
 ],
 "metadata": {
  "kernelspec": {
   "display_name": "Python 3",
   "language": "python",
   "name": "python3"
  },
  "language_info": {
   "codemirror_mode": {
    "name": "ipython",
    "version": 3
   },
   "file_extension": ".py",
   "mimetype": "text/x-python",
   "name": "python",
   "nbconvert_exporter": "python",
   "pygments_lexer": "ipython3",
   "version": "3.6.2"
  }
 },
 "nbformat": 4,
 "nbformat_minor": 2
}
